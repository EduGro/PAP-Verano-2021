{
 "cells": [
  {
   "cell_type": "markdown",
   "id": "3358fe68",
   "metadata": {},
   "source": [
    "<center> <font color=red > <font size = 7> NFTs on AlgoRand  </font> <br> <br> <font color= b> <font size = 5> Algorand Standar Asset (ASA) </font>\n"
   ]
  },
  {
   "cell_type": "markdown",
   "id": "8fb11ae2",
   "metadata": {},
   "source": [
    "<img style=\"float: right;\" src=\"files/blocks.jpeg\">\n",
    "\n",
    ">El protocolo Algorand permite la creación de activos en la cadena que se benefician de la misma seguridad, compatibilidad, velocidad y facilidad de uso que el Algo. El nombre oficial de los activos en Algorand es Algorand Standard Assets (*ASA*).\n",
    "\n",
    ">Con los activos estándar de Algorand puedes representar stablecoins, loyalty points, system credits, and in-game points, por nombrar algunos ejemplos. También puedes representar activos únicos, como la escritura de una casa, objetos coleccionables, piezas únicas en una cadena de suministro, etc. También hay una funcionalidad opcional para colocar restricciones de transferencia en un activo que ayuda a apoyar los casos de uso de valores, cumplimiento y certificación.\n",
    "\n",
    ">Los activos que representan muchos del mismo tipo, como una stablecoin, pueden denominarse activos fungibles. Los activos únicos se denominan activos no fungibles (NFT).\n",
    "\n",
    ">La NFT es una representación única y no intercambiable de un activo físico y digital en la cadena de bloques. Las NFT tienen un amplio alcance y el concepto puede aplicarse a los derechos de autor de las obras de arte, los bienes inmuebles, las representaciones de la identidad digital y los objetos de colección.\n",
    "\n",
    ">El método principal que un desarrollador o usuario de Algorand puede utilizar para construir y desplegar una NFT es mediante la función ASA. Esta función es una primitiva de capa 1 que permite crear una NFT o FT en segundos. Sólo se necesita una transacción en la blockchain de Algorand para crear un NFT. Esta transacción describe las propiedades, tanto mutables como inmutables, del token.\n",
    "\n"
   ]
  },
  {
   "cell_type": "markdown",
   "id": "19b9668a",
   "metadata": {},
   "source": [
    "## Immutable Asset Parameters\n",
    "\n",
    "-Creator (required)\n",
    "\n",
    "-AssetName (optional, but recommended)\n",
    "\n",
    "-UnitName (optional, but recommended)\n",
    "\n",
    "-Total (required)\n",
    "\n",
    "-Decimals (required)\n",
    "\n",
    "-DefaultFrozen (required)\n",
    "\n",
    "-URL (optional)\n",
    "\n",
    "-MetaDataHash (optional)\n"
   ]
  },
  {
   "cell_type": "markdown",
   "id": "842c7c38",
   "metadata": {},
   "source": [
    "## Mutable Asset Parameters\n",
    "\n",
    "-Manager Address\n",
    "\n",
    "-Reserve Address\n",
    "\n",
    "-Freeze Address\n",
    "\n",
    "-Clawback Address\n"
   ]
  },
  {
   "cell_type": "markdown",
   "id": "a7afebaf",
   "metadata": {},
   "source": [
    "## Sistema de transacción\n",
    "\n",
    ">Crear transacción ASA (Algorand Standard Asset):\n",
    "\n",
    "Cree activos usando los SDKs (Software Development Kit) o el objetivo.\n",
    "\n",
    ">Modificación de un activo:\n",
    "\n",
    "Sólo se pueden modificar las cuentas del manager, reserve, freeze and clawback\n",
    "\n",
    ">Recibir un activo:\n",
    "\n",
    "Antes de que una cuenta pueda recibir un activo específico, debe optar por recibirlo.\n",
    "\n",
    ">Transferencia de un activo:\n",
    "\n",
    "Los activos pueden transferirse entre cuentas que hayan optado por recibirlos."
   ]
  },
  {
   "cell_type": "markdown",
   "id": "e2af9c70",
   "metadata": {},
   "source": [
    "<hr style=\"border:0.02in solid red\"> </hr>"
   ]
  },
  {
   "cell_type": "code",
   "execution_count": 2,
   "id": "6221a15e",
   "metadata": {},
   "outputs": [],
   "source": [
    "import pandas as pd\n",
    "import json\n",
    "from algosdk.v2client import algod\n",
    "from algosdk import account, mnemonic\n",
    "from algosdk.future.transaction import AssetConfigTxn, AssetTransferTxn, AssetFreezeTxn"
   ]
  },
  {
   "cell_type": "markdown",
   "id": "41b8eeab",
   "metadata": {},
   "source": [
    "<font color= \"brown\"> <font size = 5> CREATE ACCOUNTS </font>"
   ]
  },
  {
   "cell_type": "markdown",
   "id": "eb18ba08",
   "metadata": {},
   "source": [
    "Se crean cuentas genéricas para el desarrollo del código. Organizador y Equipo es necesario que tengan un Wallet para las transacciones en blockchain."
   ]
  },
  {
   "cell_type": "code",
   "execution_count": 1,
   "id": "b6bbc8d8",
   "metadata": {},
   "outputs": [],
   "source": [
    "# frase mnemotécnica para Organizador y Equipo\n",
    "mnemonic1 = \"canal enact luggage spring similar zoo couple stomach shoe laptop middle wonder eager monitor weather number heavy skirt siren purity spell maze warfare ability ten\"\n",
    "mnemonic2 = \"beauty nurse season autumn curve slice cry strategy frozen spy panic hobby strong goose employ review love fee pride enlist friend enroll clip ability runway\"\n",
    "mnemonic3 = \"picnic bright know ticket purity pluck stumble destroy ugly tuna luggage quote frame loan wealth edge carpet drift cinnamon resemble shrimp grain dynamic absorb edge\""
   ]
  },
  {
   "cell_type": "code",
   "execution_count": 3,
   "id": "25f46e6d",
   "metadata": {},
   "outputs": [],
   "source": [
    "# For ease of reference, add account public and private keys to\n",
    "# an accounts dict.\n",
    "accounts = {}\n",
    "counter = 1\n",
    "for m in [mnemonic1, mnemonic2, mnemonic3]:\n",
    "    accounts[counter] = {}\n",
    "    accounts[counter]['pk'] = mnemonic.to_public_key(m)\n",
    "    accounts[counter]['sk'] = mnemonic.to_private_key(m)\n",
    "    counter += 1"
   ]
  },
  {
   "cell_type": "code",
   "execution_count": 4,
   "id": "f9fe2167",
   "metadata": {},
   "outputs": [],
   "source": [
    "# Specify your node address and token. This must be updated.\n",
    "algod_address = \"http://hackathon.algodev.network:9100\"\n",
    "algod_token = \"ef920e2e7e002953f4b29a8af720efe8e4ecc75ff102b165e0472834b25832c1\""
   ]
  },
  {
   "cell_type": "code",
   "execution_count": 5,
   "id": "db3f3927",
   "metadata": {},
   "outputs": [
    {
     "name": "stdout",
     "output_type": "stream",
     "text": [
      "Organizador address: ATTR6RUEHHBHXKUHT4GUOYWNBVDV2GJ5FHUWCSFZLHD55EVKZWOWSM7ABQ\n",
      "Organizador address: AK6Q33PDO4RJZQPHEMODC6PUE5AR2UD4FBU6TNEJOU4UR4KC6XL5PWW5K4\n",
      "Equipo address: IWR4CLLCN2TIVX2QPVVKVR5ER5OZGMWAV5QB2UIPYMPKBPLJZX4C37C4AA\n"
     ]
    }
   ],
   "source": [
    "# Initialize an algod client\n",
    "algod_client = algod.AlgodClient(algod_token=algod_token, algod_address=algod_address)\n",
    "\n",
    "def wait_for_confirmation(client, txid):\n",
    "    \"\"\"\n",
    "    Utility function to wait until the transaction is\n",
    "    confirmed before proceeding.\n",
    "    \"\"\"\n",
    "    last_round = client.status().get('last-round')\n",
    "    txinfo = client.pending_transaction_info(txid)\n",
    "    while not (txinfo.get('confirmed-round') and txinfo.get('confirmed-round') > 0):\n",
    "        print(\"Waiting for confirmation\")\n",
    "        last_round += 1\n",
    "        client.status_after_block(last_round)\n",
    "        txinfo = client.pending_transaction_info(txid)\n",
    "    print(\"Transaction {} confirmed in round {}.\".format(txid, txinfo.get('confirmed-round')))\n",
    "    return txinfo\n",
    "\n",
    "#   Utility function used to print created asset for account and assetid\n",
    "def print_created_asset(algodclient, account, assetid):    \n",
    "    # note: if you have an indexer instance available it is easier to just use this\n",
    "    # response = myindexer.accounts(asset_id = assetid)\n",
    "    # then use 'account_info['created-assets'][0] to get info on the created asset\n",
    "    account_info = algodclient.account_info(account)\n",
    "    idx = 0;\n",
    "    for my_account_info in account_info['created-assets']:\n",
    "        scrutinized_asset = account_info['created-assets'][idx]\n",
    "        idx = idx + 1       \n",
    "        if (scrutinized_asset['index'] == assetid):\n",
    "            print(\"Asset ID: {}\".format(scrutinized_asset['index']))\n",
    "            print(json.dumps(my_account_info['params'], indent=4))\n",
    "            break\n",
    "\n",
    "#   Utility function used to print asset holding for account and assetid\n",
    "def print_asset_holding(algodclient, account, assetid):\n",
    "    # note: if you have an indexer instance available it is easier to just use this\n",
    "    # response = myindexer.accounts(asset_id = assetid)\n",
    "    # then loop thru the accounts returned and match the account you are looking for\n",
    "    account_info = algodclient.account_info(account)\n",
    "    idx = 0\n",
    "    for my_account_info in account_info['assets']:\n",
    "        scrutinized_asset = account_info['assets'][idx]\n",
    "        idx = idx + 1        \n",
    "        if (scrutinized_asset['asset-id'] == assetid):\n",
    "            print(\"Asset ID: {}\".format(scrutinized_asset['asset-id']))\n",
    "            print(json.dumps(scrutinized_asset, indent=4))\n",
    "            break\n",
    "\n",
    "print(\"Organizador address: {}\".format(accounts[1]['pk']))\n",
    "print(\"Organizador address: {}\".format(accounts[2]['pk']))\n",
    "print(\"Equipo address: {}\".format(accounts[3]['pk']))\n"
   ]
  },
  {
   "cell_type": "markdown",
   "id": "0dd8b653",
   "metadata": {},
   "source": [
    "<font color= \"brown\"> <font size = 5> CREATE ASSET </font>\n"
   ]
  },
  {
   "cell_type": "markdown",
   "id": "32c4b261",
   "metadata": {},
   "source": [
    "Cree activos usando los SDKs (Software Development Kit) o el objetivo. Cuando se utilizan los SDKs se suministran todos los parámetros de creación. Con goal, la gestión de las distintas direcciones asociadas al activo debe hacerse después de ejecutar la creación de un activo."
   ]
  },
  {
   "cell_type": "code",
   "execution_count": 6,
   "id": "1b7762e9",
   "metadata": {},
   "outputs": [
    {
     "name": "stdout",
     "output_type": "stream",
     "text": [
      "AGRGCB55H2JK4WF36SUVZ4NL7NMUYREASHMULLFHZIZ45RN75I2Q\n",
      "Waiting for confirmation\n",
      "Transaction AGRGCB55H2JK4WF36SUVZ4NL7NMUYREASHMULLFHZIZ45RN75I2Q confirmed in round 15337840.\n",
      "Asset ID: 19144026\n",
      "{\n",
      "    \"clawback\": \"AK6Q33PDO4RJZQPHEMODC6PUE5AR2UD4FBU6TNEJOU4UR4KC6XL5PWW5K4\",\n",
      "    \"creator\": \"ATTR6RUEHHBHXKUHT4GUOYWNBVDV2GJ5FHUWCSFZLHD55EVKZWOWSM7ABQ\",\n",
      "    \"decimals\": 0,\n",
      "    \"default-frozen\": false,\n",
      "    \"freeze\": \"AK6Q33PDO4RJZQPHEMODC6PUE5AR2UD4FBU6TNEJOU4UR4KC6XL5PWW5K4\",\n",
      "    \"manager\": \"AK6Q33PDO4RJZQPHEMODC6PUE5AR2UD4FBU6TNEJOU4UR4KC6XL5PWW5K4\",\n",
      "    \"name\": \"nft\",\n",
      "    \"reserve\": \"AK6Q33PDO4RJZQPHEMODC6PUE5AR2UD4FBU6TNEJOU4UR4KC6XL5PWW5K4\",\n",
      "    \"total\": 12,\n",
      "    \"unit-name\": \"NFT\",\n",
      "    \"url\": \"https://path/to/my/asset/details\"\n",
      "}\n",
      "Asset ID: 19144026\n",
      "{\n",
      "    \"amount\": 12,\n",
      "    \"asset-id\": 19144026,\n",
      "    \"creator\": \"ATTR6RUEHHBHXKUHT4GUOYWNBVDV2GJ5FHUWCSFZLHD55EVKZWOWSM7ABQ\",\n",
      "    \"is-frozen\": false\n",
      "}\n"
     ]
    }
   ],
   "source": [
    "# Get network params for transactions before every transaction.\n",
    "params = algod_client.suggested_params()\n",
    "# comment these two lines if you want to use suggested params\n",
    "params.fee = 1000\n",
    "params.flat_fee = True\n",
    "\n",
    "# Account 1 creates an asset called nft and\n",
    "# sets Account 2 as the manager, reserve, freeze, and clawback address.\n",
    "# Asset Creation transaction\n",
    "\n",
    "txn = AssetConfigTxn(\n",
    "    sender=accounts[1]['pk'],\n",
    "    sp=params,\n",
    "    total=12,\n",
    "    default_frozen=False,\n",
    "    unit_name=\"CRIPTOFUTBOL\",\n",
    "    asset_name=\"CFUT\",\n",
    "    manager=accounts[2]['pk'],\n",
    "    reserve=accounts[2]['pk'],\n",
    "    freeze=accounts[2]['pk'],\n",
    "    clawback=accounts[2]['pk'],\n",
    "    url=\"https://path/to/my/asset/details\", \n",
    "    decimals=0)\n",
    "# Sign with secret key of creator\n",
    "stxn = txn.sign(accounts[1]['sk'])\n",
    "\n",
    "# Send the transaction to the network and retrieve the txid.\n",
    "txid = algod_client.send_transaction(stxn)\n",
    "print(txid)\n",
    "\n",
    "# Retrieve the asset ID of the newly created asset by first\n",
    "# ensuring that the creation transaction was confirmed,\n",
    "# then grabbing the asset id from the transaction.\n",
    "\n",
    "# Wait for the transaction to be confirmed\n",
    "wait_for_confirmation(algod_client,txid)\n",
    "\n",
    "try:\n",
    "    # Pull account info for the creator\n",
    "    # account_info = algod_client.account_info(accounts[1]['pk'])\n",
    "    # get asset_id from tx\n",
    "    # Get the new asset's information from the creator account\n",
    "    ptx = algod_client.pending_transaction_info(txid)\n",
    "    asset_id = ptx[\"asset-index\"]\n",
    "    print_created_asset(algod_client, accounts[1]['pk'], asset_id)\n",
    "    print_asset_holding(algod_client, accounts[1]['pk'], asset_id)\n",
    "except Exception as e:\n",
    "    print(e)"
   ]
  },
  {
   "cell_type": "markdown",
   "id": "274a79fb",
   "metadata": {},
   "source": [
    "![general](files/create.png)"
   ]
  },
  {
   "cell_type": "markdown",
   "id": "ca6129fa",
   "metadata": {},
   "source": [
    "<font color= \"brown\"> <font size = 5> CHANGE MANAGER </font>"
   ]
  },
  {
   "cell_type": "markdown",
   "id": "169a966d",
   "metadata": {},
   "source": [
    "Una vez creado un activo, sólo pueden modificarse las cuentas de gestor, reserva, congelación y recuperación. Todos los demás parámetros están bloqueados durante la vida del activo. Si alguna de estas direcciones se establece como \"\", esa dirección se borrará y no podrá restablecerse nunca durante la vida del activo. Sólo la cuenta del gestor puede realizar cambios de configuración y debe autorizar la transacción."
   ]
  },
  {
   "cell_type": "code",
   "execution_count": 7,
   "id": "ea47c395",
   "metadata": {},
   "outputs": [
    {
     "name": "stdout",
     "output_type": "stream",
     "text": [
      "6YS2A2LGYRDJR33E7ZKCSXNFNLWMEM7Y57CO6LAQWWWAGVRKNM5A\n",
      "Waiting for confirmation\n",
      "Transaction 6YS2A2LGYRDJR33E7ZKCSXNFNLWMEM7Y57CO6LAQWWWAGVRKNM5A confirmed in round 15337844.\n",
      "Asset ID: 19144026\n",
      "{\n",
      "    \"clawback\": \"AK6Q33PDO4RJZQPHEMODC6PUE5AR2UD4FBU6TNEJOU4UR4KC6XL5PWW5K4\",\n",
      "    \"creator\": \"ATTR6RUEHHBHXKUHT4GUOYWNBVDV2GJ5FHUWCSFZLHD55EVKZWOWSM7ABQ\",\n",
      "    \"decimals\": 0,\n",
      "    \"default-frozen\": false,\n",
      "    \"freeze\": \"AK6Q33PDO4RJZQPHEMODC6PUE5AR2UD4FBU6TNEJOU4UR4KC6XL5PWW5K4\",\n",
      "    \"manager\": \"ATTR6RUEHHBHXKUHT4GUOYWNBVDV2GJ5FHUWCSFZLHD55EVKZWOWSM7ABQ\",\n",
      "    \"name\": \"nft\",\n",
      "    \"reserve\": \"AK6Q33PDO4RJZQPHEMODC6PUE5AR2UD4FBU6TNEJOU4UR4KC6XL5PWW5K4\",\n",
      "    \"total\": 12,\n",
      "    \"unit-name\": \"NFT\",\n",
      "    \"url\": \"https://path/to/my/asset/details\"\n",
      "}\n"
     ]
    }
   ],
   "source": [
    "# The current manager(Account 2) issues an asset configuration transaction that assigns Account 1 as the new manager.\n",
    "# Keep reserve, freeze, and clawback address same as before, i.e. account 2\n",
    "params = algod_client.suggested_params()\n",
    "# comment these two lines if you want to use suggested params\n",
    "params.fee = 1000\n",
    "params.flat_fee = True\n",
    "\n",
    "# asset_id = 328952;\n",
    "\n",
    "txn = AssetConfigTxn(\n",
    "    sender=accounts[2]['pk'],\n",
    "    sp=params,\n",
    "    index=asset_id, \n",
    "    manager=accounts[1]['pk'],\n",
    "    reserve=accounts[2]['pk'],\n",
    "    freeze=accounts[2]['pk'],\n",
    "    clawback=accounts[2]['pk'])\n",
    "# sign by the current manager - Account 2\n",
    "stxn = txn.sign(accounts[2]['sk'])\n",
    "txid = algod_client.send_transaction(stxn)\n",
    "print(txid)\n",
    "\n",
    "# Wait for the transaction to be confirmed\n",
    "wait_for_confirmation(algod_client, txid)\n",
    "\n",
    "# Check asset info to view change in management. manager should now be account 1\n",
    "print_created_asset(algod_client, accounts[1]['pk'], asset_id)"
   ]
  },
  {
   "cell_type": "markdown",
   "id": "3896aba3",
   "metadata": {},
   "source": [
    "<font color= \"brown\"> <font size = 5> OPT-IN </font>"
   ]
  },
  {
   "cell_type": "markdown",
   "id": "9f02d9b2",
   "metadata": {},
   "source": [
    "Antes de que una cuenta pueda recibir un activo específico, debe optar por recibirlo. Una transacción opt-in coloca una tenencia de activos de 0 en la cuenta y aumenta su saldo mínimo en 100.000 microAlgos. Una transacción opt-in es simplemente una transferencia de activos con una cantidad de 0, tanto hacia como desde la cuenta opt-in."
   ]
  },
  {
   "cell_type": "code",
   "execution_count": 8,
   "id": "e80cef12",
   "metadata": {},
   "outputs": [
    {
     "name": "stdout",
     "output_type": "stream",
     "text": [
      "XAJPGRUIOS3VKQ2YHUVDYZSQJKHA5KPNPNP3NKVWFQ3GWYQ5YWTQ\n",
      "Waiting for confirmation\n",
      "Transaction XAJPGRUIOS3VKQ2YHUVDYZSQJKHA5KPNPNP3NKVWFQ3GWYQ5YWTQ confirmed in round 15337847.\n",
      "Asset ID: 19144026\n",
      "{\n",
      "    \"amount\": 0,\n",
      "    \"asset-id\": 19144026,\n",
      "    \"creator\": \"ATTR6RUEHHBHXKUHT4GUOYWNBVDV2GJ5FHUWCSFZLHD55EVKZWOWSM7ABQ\",\n",
      "    \"is-frozen\": false\n",
      "}\n"
     ]
    }
   ],
   "source": [
    "# Check if asset_id is in account 3's asset holdings prior\n",
    "# to opt-in\n",
    "params = algod_client.suggested_params()\n",
    "# comment these two lines if you want to use suggested params\n",
    "params.fee = 1000\n",
    "params.flat_fee = True\n",
    "\n",
    "account_info = algod_client.account_info(accounts[3]['pk'])\n",
    "holding = None\n",
    "idx = 0\n",
    "for my_account_info in account_info['assets']:\n",
    "    scrutinized_asset = account_info['assets'][idx]\n",
    "    idx = idx + 1    \n",
    "    if (scrutinized_asset['asset-id'] == asset_id):\n",
    "        holding = True\n",
    "        break\n",
    "\n",
    "if not holding:\n",
    "\n",
    "    # Use the AssetTransferTxn class to transfer assets and opt-in\n",
    "    txn = AssetTransferTxn(\n",
    "        sender=accounts[3]['pk'],\n",
    "        sp=params,\n",
    "        receiver=accounts[3][\"pk\"],\n",
    "        amt=0,\n",
    "        index=asset_id)\n",
    "    stxn = txn.sign(accounts[3]['sk'])\n",
    "    txid = algod_client.send_transaction(stxn)\n",
    "    print(txid)\n",
    "    # Wait for the transaction to be confirmed\n",
    "    wait_for_confirmation(algod_client, txid)\n",
    "    # Now check the asset holding for that account.\n",
    "    # This should now show a holding with a balance of 0.\n",
    "    print_asset_holding(algod_client, accounts[3]['pk'], asset_id)"
   ]
  },
  {
   "cell_type": "markdown",
   "id": "596f12c2",
   "metadata": {},
   "source": [
    "<font color= \"brown\"> <font size = 5> TRANSFER ASSET </font>"
   ]
  },
  {
   "cell_type": "markdown",
   "id": "a2609621",
   "metadata": {},
   "source": [
    "Los activos pueden ser transferidos entre cuentas que han optado por recibir el activo. Son análogas a las transacciones de pago estándar, pero para los activos estándar de Algorand."
   ]
  },
  {
   "cell_type": "code",
   "execution_count": 9,
   "id": "5be78972",
   "metadata": {},
   "outputs": [
    {
     "name": "stdout",
     "output_type": "stream",
     "text": [
      "NK7M7IALHG4H747EAMDEVMRSTSCSIIIDD3AWX4SWSESZPHQY47ZA\n",
      "Waiting for confirmation\n",
      "Transaction NK7M7IALHG4H747EAMDEVMRSTSCSIIIDD3AWX4SWSESZPHQY47ZA confirmed in round 15337849.\n",
      "Asset ID: 19144026\n",
      "{\n",
      "    \"amount\": 10,\n",
      "    \"asset-id\": 19144026,\n",
      "    \"creator\": \"ATTR6RUEHHBHXKUHT4GUOYWNBVDV2GJ5FHUWCSFZLHD55EVKZWOWSM7ABQ\",\n",
      "    \"is-frozen\": false\n",
      "}\n"
     ]
    }
   ],
   "source": [
    "# transfer asset of 10 from account 1 to account 3\n",
    "params = algod_client.suggested_params()\n",
    "# comment these two lines if you want to use suggested params\n",
    "params.fee = 1000\n",
    "params.flat_fee = True\n",
    "txn = AssetTransferTxn(\n",
    "    sender=accounts[1]['pk'],\n",
    "    sp=params,\n",
    "    receiver=accounts[3][\"pk\"],\n",
    "    amt=10,\n",
    "    index=asset_id)\n",
    "stxn = txn.sign(accounts[1]['sk'])\n",
    "txid = algod_client.send_transaction(stxn)\n",
    "print(txid)\n",
    "# Wait for the transaction to be confirmed\n",
    "wait_for_confirmation(algod_client, txid)\n",
    "# The balance should now be 10.\n",
    "print_asset_holding(algod_client, accounts[3]['pk'], asset_id)"
   ]
  },
  {
   "cell_type": "markdown",
   "id": "545c5385",
   "metadata": {},
   "source": [
    "<font color= \"brown\"> <font size = 5> FREEZE ASSET </font>"
   ]
  },
  {
   "cell_type": "markdown",
   "id": "b6f9764a",
   "metadata": {},
   "source": [
    "La congelación o descongelación de un activo para una cuenta requiere una transacción firmada por la cuenta congelada. "
   ]
  },
  {
   "cell_type": "code",
   "execution_count": 10,
   "id": "5568edcd",
   "metadata": {},
   "outputs": [
    {
     "name": "stdout",
     "output_type": "stream",
     "text": [
      "AU2VE4NX7UG74LQ26A4MHUQP2WVSXIFBPRRWBK7VTZ4O7NTFHXLA\n",
      "Waiting for confirmation\n",
      "Transaction AU2VE4NX7UG74LQ26A4MHUQP2WVSXIFBPRRWBK7VTZ4O7NTFHXLA confirmed in round 15337851.\n",
      "Asset ID: 19144026\n",
      "{\n",
      "    \"amount\": 10,\n",
      "    \"asset-id\": 19144026,\n",
      "    \"creator\": \"ATTR6RUEHHBHXKUHT4GUOYWNBVDV2GJ5FHUWCSFZLHD55EVKZWOWSM7ABQ\",\n",
      "    \"is-frozen\": true\n",
      "}\n"
     ]
    }
   ],
   "source": [
    "params = algod_client.suggested_params()\n",
    "# comment these two lines if you want to use suggested params\n",
    "params.fee = 1000\n",
    "params.flat_fee = True\n",
    "# The freeze address (Account 2) freezes Account 3's latinum holdings.\n",
    "\n",
    "txn = AssetFreezeTxn(\n",
    "    sender=accounts[2]['pk'],\n",
    "    sp=params,\n",
    "    index=asset_id,\n",
    "    target=accounts[3][\"pk\"],\n",
    "    new_freeze_state=True   \n",
    "    )\n",
    "stxn = txn.sign(accounts[2]['sk'])\n",
    "txid = algod_client.send_transaction(stxn)\n",
    "print(txid)\n",
    "# Wait for the transaction to be confirmed\n",
    "wait_for_confirmation(algod_client, txid)\n",
    "# The balance should now be 10 with frozen set to true.\n",
    "print_asset_holding(algod_client, accounts[3]['pk'], asset_id)"
   ]
  },
  {
   "cell_type": "markdown",
   "id": "2be89b76",
   "metadata": {},
   "source": [
    "<font color= \"brown\"> <font size = 5> REVOKE ASSET </font>"
   ]
  },
  {
   "cell_type": "markdown",
   "id": "92efa697",
   "metadata": {},
   "source": [
    "La revocación de un activo para una cuenta elimina un número específico del activo de la cuenta de destino de la revocación. La revocación de un activo de una cuenta requiere especificar un remitente de activos (la cuenta de destino de la revocación) y un receptor de activos (la cuenta a la que transferir los fondos de nuevo)."
   ]
  },
  {
   "cell_type": "code",
   "execution_count": 11,
   "id": "1474e302",
   "metadata": {},
   "outputs": [
    {
     "name": "stdout",
     "output_type": "stream",
     "text": [
      "PZV4BC5WHQFEBQMZDYJVJ62U2U6C4QS6YSXQEZIU47PK4ESTO3MQ\n",
      "Waiting for confirmation\n",
      "Transaction PZV4BC5WHQFEBQMZDYJVJ62U2U6C4QS6YSXQEZIU47PK4ESTO3MQ confirmed in round 15337854.\n",
      "Equipo\n",
      "Asset ID: 19144026\n",
      "{\n",
      "    \"amount\": 0,\n",
      "    \"asset-id\": 19144026,\n",
      "    \"creator\": \"ATTR6RUEHHBHXKUHT4GUOYWNBVDV2GJ5FHUWCSFZLHD55EVKZWOWSM7ABQ\",\n",
      "    \"is-frozen\": true\n",
      "}\n",
      "Organizador\n",
      "Asset ID: 19144026\n",
      "{\n",
      "    \"amount\": 12,\n",
      "    \"asset-id\": 19144026,\n",
      "    \"creator\": \"ATTR6RUEHHBHXKUHT4GUOYWNBVDV2GJ5FHUWCSFZLHD55EVKZWOWSM7ABQ\",\n",
      "    \"is-frozen\": false\n",
      "}\n"
     ]
    }
   ],
   "source": [
    "# The clawback address (Account 2) revokes 10 latinum from Account 3 and places it back with Account 1.\n",
    "params = algod_client.suggested_params()\n",
    "# comment these two lines if you want to use suggested params\n",
    "params.fee = 1000\n",
    "params.flat_fee = True\n",
    "\n",
    "# Must be signed by the account that is the Asset's clawback address\n",
    "txn = AssetTransferTxn(\n",
    "    sender=accounts[2]['pk'],\n",
    "    sp=params,\n",
    "    receiver=accounts[1][\"pk\"],\n",
    "    amt=10,\n",
    "    index=asset_id,\n",
    "    revocation_target=accounts[3]['pk']\n",
    "    )\n",
    "stxn = txn.sign(accounts[2]['sk'])\n",
    "txid = algod_client.send_transaction(stxn)\n",
    "print(txid)\n",
    "# Wait for the transaction to be confirmed\n",
    "wait_for_confirmation(algod_client, txid)\n",
    "# The balance of account 3 should now be 0.\n",
    "# account_info = algod_client.account_info(accounts[3]['pk'])\n",
    "print(\"Equipo\")\n",
    "print_asset_holding(algod_client, accounts[3]['pk'], asset_id)\n",
    "\n",
    "# The balance of account 1 should increase by 10 to 1000.\n",
    "print(\"Organizador\")\n",
    "print_asset_holding(algod_client, accounts[1]['pk'], asset_id)"
   ]
  },
  {
   "cell_type": "markdown",
   "id": "b826f39e",
   "metadata": {},
   "source": [
    "<font color= \"brown\"> <font size = 5> DESTROY ASSET </font>"
   ]
  },
  {
   "cell_type": "markdown",
   "id": "26ed30dc",
   "metadata": {},
   "source": [
    "Los activos creados sólo pueden ser destruidos por la cuenta del gestor de activos. Todos los activos deben ser propiedad del creador del activo antes de que éste pueda ser eliminado."
   ]
  },
  {
   "cell_type": "code",
   "execution_count": 12,
   "id": "2a9ae5d4",
   "metadata": {},
   "outputs": [
    {
     "name": "stdout",
     "output_type": "stream",
     "text": [
      "6NW7HYNTSISFOLP2NONQCSKTB4AY7N5RFESOQBHXQ52P3MKA2CBQ\n",
      "Waiting for confirmation\n",
      "Transaction 6NW7HYNTSISFOLP2NONQCSKTB4AY7N5RFESOQBHXQ52P3MKA2CBQ confirmed in round 15337857.\n",
      "El equipo debe hacer una transacción por un importe de 0, \n",
      "con un close_assets_to a la cuenta del creador, para borrarla de su contabilidad\n",
      "En el caso de Organizador, no debería imprimirse nada después de esto, ya que el activo se destruye en la cuenta del creador\n"
     ]
    }
   ],
   "source": [
    "# With all assets back in the creator's account,\n",
    "# the manager (Account 1) destroys the asset.\n",
    "params = algod_client.suggested_params()\n",
    "# comment these two lines if you want to use suggested params\n",
    "params.fee = 1000\n",
    "params.flat_fee = True\n",
    "\n",
    "# Asset destroy transaction\n",
    "txn = AssetConfigTxn(\n",
    "    sender=accounts[1]['pk'],\n",
    "    sp=params,\n",
    "    index=asset_id,\n",
    "    strict_empty_address_check=False\n",
    "    )\n",
    "\n",
    "# Sign with secret key of creator\n",
    "stxn = txn.sign(accounts[1]['sk'])\n",
    "# Send the transaction to the network and retrieve the txid.\n",
    "txid = algod_client.send_transaction(stxn)\n",
    "print(txid)\n",
    "# Wait for the transaction to be confirmed\n",
    "wait_for_confirmation(algod_client, txid)\n",
    "\n",
    "# Asset was deleted.\n",
    "try:\n",
    "    print(\"El equipo debe hacer una transacción por un importe de 0, \" )\n",
    "    print(\"con un close_assets_to a la cuenta del creador, para borrarla de su contabilidad\")\n",
    "    print(\"En el caso de Organizador, no debería imprimirse nada después de esto, ya que el activo se destruye en la cuenta del creador\")\n",
    "   \n",
    "    print_asset_holding(algod_client, accounts[1]['pk'], asset_id)\n",
    "    print_created_asset(algod_client, accounts[1]['pk'], asset_id)\n",
    "    # asset_info = algod_client.asset_info(asset_id)\n",
    "except Exception as e:\n",
    "    print(e)"
   ]
  },
  {
   "cell_type": "code",
   "execution_count": 13,
   "id": "e362243d",
   "metadata": {},
   "outputs": [
    {
     "data": {
      "text/html": [
       "<div>\n",
       "<style scoped>\n",
       "    .dataframe tbody tr th:only-of-type {\n",
       "        vertical-align: middle;\n",
       "    }\n",
       "\n",
       "    .dataframe tbody tr th {\n",
       "        vertical-align: top;\n",
       "    }\n",
       "\n",
       "    .dataframe thead th {\n",
       "        text-align: right;\n",
       "    }\n",
       "</style>\n",
       "<table border=\"1\" class=\"dataframe\">\n",
       "  <thead>\n",
       "    <tr style=\"text-align: right;\">\n",
       "      <th></th>\n",
       "      <th>Circulating Supply</th>\n",
       "      <th>Total Supply</th>\n",
       "      <th>Unit Name</th>\n",
       "      <th>Token ID</th>\n",
       "      <th>Reserve Address</th>\n",
       "      <th>Creator Address</th>\n",
       "      <th>Default Frozen</th>\n",
       "      <th>Number of Transfers</th>\n",
       "    </tr>\n",
       "  </thead>\n",
       "  <tbody>\n",
       "    <tr>\n",
       "      <th>0</th>\n",
       "      <td>0</td>\n",
       "      <td>12</td>\n",
       "      <td>NFT</td>\n",
       "      <td>19144026</td>\n",
       "      <td>IWR4CLLCN2TIVX2QPVVKVR5ER5OZGMWAV5QB2UIPYMPKBP...</td>\n",
       "      <td>ATTR6RUEHHBHXKUHT4GUOYWNBVDV2GJ5FHUWCSFZLHD55E...</td>\n",
       "      <td>is-false</td>\n",
       "      <td>0</td>\n",
       "    </tr>\n",
       "  </tbody>\n",
       "</table>\n",
       "</div>"
      ],
      "text/plain": [
       "   Circulating Supply  Total Supply Unit Name  Token ID  \\\n",
       "0                   0            12       NFT  19144026   \n",
       "\n",
       "                                     Reserve Address  \\\n",
       "0  IWR4CLLCN2TIVX2QPVVKVR5ER5OZGMWAV5QB2UIPYMPKBP...   \n",
       "\n",
       "                                     Creator Address Default Frozen  \\\n",
       "0  ATTR6RUEHHBHXKUHT4GUOYWNBVDV2GJ5FHUWCSFZLHD55E...       is-false   \n",
       "\n",
       "   Number of Transfers  \n",
       "0                    0  "
      ]
     },
     "execution_count": 13,
     "metadata": {},
     "output_type": "execute_result"
    }
   ],
   "source": [
    "general = {'Circulating Supply':[0],\n",
    "        'Total Supply':[12],\n",
    "        'Unit Name':['NFT'],\n",
    "        'Token ID':[asset_id],\n",
    "        'Reserve Address':[accounts[3]['pk']],\n",
    "        'Creator Address':[accounts[1]['pk']],\n",
    "        'Default Frozen':['is-false'],\n",
    "        'Number of Transfers':[0]}\n",
    "pd.DataFrame(general)"
   ]
  },
  {
   "cell_type": "code",
   "execution_count": 14,
   "id": "f990fbad",
   "metadata": {},
   "outputs": [
    {
     "data": {
      "text/html": [
       "<div>\n",
       "<style scoped>\n",
       "    .dataframe tbody tr th:only-of-type {\n",
       "        vertical-align: middle;\n",
       "    }\n",
       "\n",
       "    .dataframe tbody tr th {\n",
       "        vertical-align: top;\n",
       "    }\n",
       "\n",
       "    .dataframe thead th {\n",
       "        text-align: right;\n",
       "    }\n",
       "</style>\n",
       "<table border=\"1\" class=\"dataframe\">\n",
       "  <thead>\n",
       "    <tr style=\"text-align: right;\">\n",
       "      <th></th>\n",
       "      <th>Manager Address</th>\n",
       "      <th>Freeze Address</th>\n",
       "      <th>Creation Tx</th>\n",
       "      <th>Clawback Account</th>\n",
       "      <th>RDecimals</th>\n",
       "    </tr>\n",
       "  </thead>\n",
       "  <tbody>\n",
       "    <tr>\n",
       "      <th>0</th>\n",
       "      <td>AK6Q33PDO4RJZQPHEMODC6PUE5AR2UD4FBU6TNEJOU4UR4...</td>\n",
       "      <td>AK6Q33PDO4RJZQPHEMODC6PUE5AR2UD4FBU6TNEJOU4UR4...</td>\n",
       "      <td>6NW7HYNTSISFOLP2NONQCSKTB4AY7N5RFESOQBHXQ52P3M...</td>\n",
       "      <td>AK6Q33PDO4RJZQPHEMODC6PUE5AR2UD4FBU6TNEJOU4UR4...</td>\n",
       "      <td>0</td>\n",
       "    </tr>\n",
       "  </tbody>\n",
       "</table>\n",
       "</div>"
      ],
      "text/plain": [
       "                                     Manager Address  \\\n",
       "0  AK6Q33PDO4RJZQPHEMODC6PUE5AR2UD4FBU6TNEJOU4UR4...   \n",
       "\n",
       "                                      Freeze Address  \\\n",
       "0  AK6Q33PDO4RJZQPHEMODC6PUE5AR2UD4FBU6TNEJOU4UR4...   \n",
       "\n",
       "                                         Creation Tx  \\\n",
       "0  6NW7HYNTSISFOLP2NONQCSKTB4AY7N5RFESOQBHXQ52P3M...   \n",
       "\n",
       "                                    Clawback Account  RDecimals  \n",
       "0  AK6Q33PDO4RJZQPHEMODC6PUE5AR2UD4FBU6TNEJOU4UR4...          0  "
      ]
     },
     "execution_count": 14,
     "metadata": {},
     "output_type": "execute_result"
    }
   ],
   "source": [
    "technical_info = {'Manager Address':[accounts[2]['pk']],\n",
    "        'Freeze Address':[accounts[2]['pk']],\n",
    "        'Creation Tx':[txid],\n",
    "        'Clawback Account':[accounts[2]['pk']],\n",
    "        'RDecimals':[0]}\n",
    "        \n",
    "pd.DataFrame(technical_info)"
   ]
  },
  {
   "cell_type": "markdown",
   "id": "5be20b71",
   "metadata": {},
   "source": [
    "![general](files/asa.png)\n",
    "\n"
   ]
  },
  {
   "cell_type": "markdown",
   "id": "1ea452e6",
   "metadata": {},
   "source": [
    "![general](files/nft1.png)\n",
    "\n"
   ]
  },
  {
   "cell_type": "markdown",
   "id": "1f91f24d",
   "metadata": {},
   "source": [
    "Una vez que el bloque que contiene la transacción génesis del ASA se ha añadido a la cadena de bloques, el activo cobra vida devolviendo el ID de la transacción génesis y su ID de activo. Ahora puedes encontrar tu ASA entre los activos estándar de Algorand que aparecen en el explorador de bloques. https://algoexplorer.io/\n",
    "El ID del activo es la identidad única de nuestro ASA que acabamos de crear. En bases de datos, la identidad única del registro en una base de datos está garantizada por una clave primaria que es inmutable y diferente de todos los demás registros. El identificador de activos funciona de la misma manera. Otra persona puede crear ASAs exactamente con el mismo nombre de activo\n",
    "nombre de activo y nombre de unidad de activo que ya existen en la cadena de bloques. Sin embargo, lo que realmente diferencia su ASA de los demás es el ID de activo.\n",
    "\n"
   ]
  },
  {
   "cell_type": "markdown",
   "id": "c2383a4d",
   "metadata": {},
   "source": [
    "<hr style=\"border:0.02in solid red\"> </hr>"
   ]
  },
  {
   "cell_type": "markdown",
   "id": "0939b9d7",
   "metadata": {},
   "source": [
    "## Links\n",
    "\n",
    "https://developer.algorand.org/articles/building-nfts-on-algorand/\n",
    "\n",
    "\n",
    "https://wallet.myalgo.com/\n",
    "\n",
    "\n",
    "https://algodesk.io/#/portal/home\n",
    "\n",
    "\n",
    "https://algoexplorer.io/asset/273448084"
   ]
  }
 ],
 "metadata": {
  "interpreter": {
   "hash": "386d83fb667d97e7b1f39f2e10f6e6364b1cd5c4a5a1ca02adf2fa8d04d5e51d"
  },
  "kernelspec": {
   "display_name": "Python 3",
   "language": "python",
   "name": "python3"
  },
  "language_info": {
   "codemirror_mode": {
    "name": "ipython",
    "version": 3
   },
   "file_extension": ".py",
   "mimetype": "text/x-python",
   "name": "python",
   "nbconvert_exporter": "python",
   "pygments_lexer": "ipython3",
   "version": "3.8.8"
  }
 },
 "nbformat": 4,
 "nbformat_minor": 5
}
