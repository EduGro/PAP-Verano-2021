{
 "cells": [
  {
   "cell_type": "markdown",
   "id": "2ad77c8b",
   "metadata": {},
   "source": [
    "Las propiedades inmutables se configuran una vez y nunca pueden cambiarse una vez creado el NFT. Los parámetros requeridos son el campo Creador, que es rellenado automáticamente por el remitente de la transacción de creación inicial, el Número total del activo, que representa un recuento de unidades para los NFT, que debe establecerse en 1, los Decimales implícitos, que permiten subdividir cada unidad de un FT, y DefaultFrozen, que especifica si el token puede negociarse por defecto. Para un NFT, los decimales deben establecerse en 0. Si un NFT está configurado como congelado por defecto, el token tiene que ser descongelado antes de que pueda ser negociado con otros.\n",
    "\n",
    "Las propiedades inmutables opcionales incluyen AssetName, que es una cadena de 32 bytes que puede utilizarse para nombrar su clase de activo, UnitName, que es una cadena de 8 bytes que especifica el nombre de una unidad del activo (por ejemplo, USDC), la propiedad URL, que es una cadena de 32 bytes que permite añadir una URL al activo que puede utilizarse para especificar una ubicación fuera de la cadena con detalles adicionales sobre el activo, y MetaDataHash, que es un campo de 32 bytes destinado a almacenar un hash de algunos datos fuera de la cadena, como el certificado de propiedad.\n",
    "\n",
    "Las propiedades mutables consisten en un conjunto de cuatro direcciones que permiten configurar el NFT para que funcione de alguna manera, como un token restringido. Entre ellas se encuentran la dirección ManagerAddress, que puede utilizarse para cambiar las otras tres direcciones, la dirección ReserveAddress, que puede utilizarse para mantener tokens lógicos sin minar, la dirección FreezeAddress, que puede utilizarse para congelar o descongelar un NFT para cualquier cuenta, y la dirección ClawbackAddress, que permite tomar el NFT de una cuenta y dárselo a otra. Cualquiera de estas direcciones puede bloquearse borrándola, lo que bloquea efectivamente esa configuración para la vida del token. Mientras una dirección no haya sido borrada, el gestor puede cambiarla en cualquier momento. Estas direcciones pueden ser de cualquier tipo: clave única, multiSig o logicSig. En secciones posteriores de este artículo se describe el uso de contratos inteligentes sin estado para especificar la lógica del programa que controla el funcionamiento de estas direcciones mutables.\n",
    "\n",
    "Los campos URL y MetaData Hash pueden ser utilizados para almacenar datos sobre la NFT que pueden ser almacenados fuera de la cadena en algún sistema como IPFS. Esta es la forma más sencilla de crear una NFT en Algorand y tarda unos segundos en realizarse. "
   ]
  },
  {
   "cell_type": "markdown",
   "id": "16b4cd0b",
   "metadata": {},
   "source": [
    "![Texto alternativo](files/lol.jpeg)\n"
   ]
  },
  {
   "cell_type": "code",
   "execution_count": null,
   "id": "0de30123",
   "metadata": {},
   "outputs": [],
   "source": []
  }
 ],
 "metadata": {
  "kernelspec": {
   "display_name": "Python 3",
   "language": "python",
   "name": "python3"
  },
  "language_info": {
   "codemirror_mode": {
    "name": "ipython",
    "version": 3
   },
   "file_extension": ".py",
   "mimetype": "text/x-python",
   "name": "python",
   "nbconvert_exporter": "python",
   "pygments_lexer": "ipython3",
   "version": "3.8.8"
  }
 },
 "nbformat": 4,
 "nbformat_minor": 5
}
