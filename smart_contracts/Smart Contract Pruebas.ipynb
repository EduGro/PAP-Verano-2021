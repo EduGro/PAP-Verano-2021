{
 "cells": [
  {
   "cell_type": "markdown",
   "id": "3358fe68",
   "metadata": {},
   "source": [
    "## SMART CONTRACTS USING PY-ALGORAND"
   ]
  },
  {
   "cell_type": "code",
   "execution_count": 2,
   "id": "2b011246",
   "metadata": {},
   "outputs": [],
   "source": [
    "import json\n",
    "from algosdk import account, algod, mnemonic, transaction, encoding"
   ]
  },
  {
   "cell_type": "code",
   "execution_count": 6,
   "id": "475cef0e",
   "metadata": {},
   "outputs": [
    {
     "name": "stdout",
     "output_type": "stream",
     "text": [
      "Private key: PtMNeAKG4WWRzzT6giMrRPeC+xUsSYI2anorsffJDlhyPtaXh3PIqiVmnk7qkXThz6ivN52Q9az1XpCEYjIcYQ==\n",
      "Address: OI7NNF4HOPEKUJLGTZHOVELU4HH2RLZXTWIPLLHVL2IIIYRSDRQYDBK6CE\n",
      "The address is valid!\n"
     ]
    }
   ],
   "source": [
    "#First example\n",
    "\n",
    "# generate an account\n",
    "private_key, address = account.generate_account()\n",
    "print(\"Private key:\", private_key)\n",
    "print(\"Address:\", address)\n",
    "\n",
    "# check if the address is valid\n",
    "if encoding.is_valid_address(address):\n",
    "    print(\"The address is valid!\")\n",
    "else:\n",
    "    print(\"The address is invalid.\")"
   ]
  },
  {
   "cell_type": "code",
   "execution_count": 7,
   "id": "28abe144",
   "metadata": {},
   "outputs": [],
   "source": [
    "#Create frase seed\n",
    "mnemonic1 = \"canal enact luggage spring similar zoo couple stomach shoe laptop middle wonder eager monitor weather number heavy skirt siren purity spell maze warfare ability ten\"\n",
    "mnemonic2 = \"beauty nurse season autumn curve slice cry strategy frozen spy panic hobby strong goose employ review love fee pride enlist friend enroll clip ability runway\"\n",
    "mnemonic3 = \"picnic bright know ticket purity pluck stumble destroy ugly tuna luggage quote frame loan wealth edge carpet drift cinnamon resemble shrimp grain dynamic absorb edge\"\n",
    "\n",
    "\n",
    "# For ease of reference, add account public and private keys to\n",
    "# an accounts dict.\n",
    "accounts = {}\n",
    "counter = 1\n",
    "for m in [mnemonic1, mnemonic2, mnemonic3]:\n",
    "    accounts[counter] = {}\n",
    "    accounts[counter]['pk'] = mnemonic.to_public_key(m)\n",
    "    accounts[counter]['sk'] = mnemonic.to_private_key(m)\n",
    "    counter += 1"
   ]
  },
  {
   "cell_type": "code",
   "execution_count": 12,
   "id": "3e3dfed9",
   "metadata": {},
   "outputs": [],
   "source": [
    "# Specify your node address and token. This must be updated.\n",
    "# algod_address = \"\"  # ADD ADDRESS\n",
    "# algod_token = \"\"  # ADD TOKEN\n",
    "\n",
    "algod_address = \"http://hackathon.algodev.network:9100\"\n",
    "algod_token = \"ef920e2e7e002953f4b29a8af720efe8e4ecc75ff102b165e0472834b25832c1\"\n"
   ]
  },
  {
   "cell_type": "code",
   "execution_count": 13,
   "id": "1e4ee262",
   "metadata": {},
   "outputs": [],
   "source": [
    "# Initialize an algod client\n",
    "algod_client = algod.AlgodClient(algod_token, algod_address)"
   ]
  },
  {
   "cell_type": "code",
   "execution_count": 14,
   "id": "e68b027c",
   "metadata": {},
   "outputs": [],
   "source": [
    "# Get network params for transactions.\n",
    "params = algod_client.suggested_params()\n",
    "first = params.get(\"lastRound\")\n",
    "last = first + 1000\n",
    "gen = params.get(\"genesisID\")\n",
    "gh = params.get(\"genesishashb64\")\n",
    "min_fee = params.get(\"minFee\")"
   ]
  },
  {
   "cell_type": "code",
   "execution_count": 15,
   "id": "af0d12cb",
   "metadata": {},
   "outputs": [],
   "source": [
    "# Utility function to wait for a transaction to be confirmed by network\n",
    "\n",
    "def wait_for_tx_confirmation(txid):\n",
    "   last_round = algod_client.status().get('lastRound')\n",
    "   while True:\n",
    "       txinfo = algod_client.pending_transaction_info(txid)\n",
    "       if txinfo.get('round') and txinfo.get('round') > 0:\n",
    "           print(\"Transaction {} confirmed in round {}.\".format(\n",
    "               txid, txinfo.get('round')))\n",
    "           break\n",
    "       else:\n",
    "           print(\"Waiting for confirmation...\")\n",
    "           last_round += 1\n",
    "           algod_client.status_after_block(last_round)"
   ]
  },
  {
   "cell_type": "code",
   "execution_count": 16,
   "id": "871d3410",
   "metadata": {},
   "outputs": [
    {
     "name": "stdout",
     "output_type": "stream",
     "text": [
      "Account 1 address: ATTR6RUEHHBHXKUHT4GUOYWNBVDV2GJ5FHUWCSFZLHD55EVKZWOWSM7ABQ\n",
      "Account 2 address: AK6Q33PDO4RJZQPHEMODC6PUE5AR2UD4FBU6TNEJOU4UR4KC6XL5PWW5K4\n",
      "Account 3 address: IWR4CLLCN2TIVX2QPVVKVR5ER5OZGMWAV5QB2UIPYMPKBPLJZX4C37C4AA\n"
     ]
    }
   ],
   "source": [
    "print(\"Account 1 address: {}\".format(accounts[1]['pk']))\n",
    "print(\"Account 2 address: {}\".format(accounts[2]['pk']))\n",
    "print(\"Account 3 address: {}\".format(accounts[3]['pk']))\n"
   ]
  },
  {
   "cell_type": "code",
   "execution_count": 17,
   "id": "87b8200f",
   "metadata": {},
   "outputs": [],
   "source": [
    "# Account 1 creates an asset called latinum and sets Account 2 as the manager, reserve, freeze, and clawback address.\n",
    "\n",
    "data = {\n",
    "    \"sender\": accounts[1]['pk'],\n",
    "    \"fee\": min_fee,\n",
    "    \"first\": first,\n",
    "    \"last\": last,\n",
    "    \"gh\": gh,\n",
    "    \"total\": 1000,\n",
    "    \"default_frozen\": False,\n",
    "    \"unit_name\": \"LATINUM\",\n",
    "    \"asset_name\": \"latinum\",\n",
    "    \"manager\": accounts[2]['pk'],\n",
    "    \"reserve\": accounts[2]['pk'],\n",
    "    \"freeze\": accounts[2]['pk'],\n",
    "    \"clawback\": accounts[2]['pk'],\n",
    "    \"url\": \"https://path/to/my/asset/details\",\n",
    "    \"flat_fee\": True,\n",
    "    \"decimals\": 0\n",
    "}"
   ]
  },
  {
   "cell_type": "code",
   "execution_count": 18,
   "id": "d45f76fd",
   "metadata": {},
   "outputs": [],
   "source": [
    "# Construct Asset Creation transaction\n",
    "txn = transaction.AssetConfigTxn(**data)"
   ]
  },
  {
   "cell_type": "code",
   "execution_count": 19,
   "id": "2dcdf60f",
   "metadata": {},
   "outputs": [],
   "source": [
    "# Sign with secret key of creator\n",
    "stxn = txn.sign(accounts[1]['sk'])"
   ]
  },
  {
   "cell_type": "code",
   "execution_count": 20,
   "id": "5e349453",
   "metadata": {},
   "outputs": [
    {
     "name": "stdout",
     "output_type": "stream",
     "text": [
      "3TNSL4XQOE6UWAWRCSJRSSCXTR7WDTGRS2SX5KSFHSU7ZF2XO6IA\n"
     ]
    }
   ],
   "source": [
    "# Send the transaction to the network and retrieve the txid.\n",
    "txid = algod_client.send_transaction(stxn)\n",
    "print(txid)"
   ]
  },
  {
   "cell_type": "code",
   "execution_count": 23,
   "id": "87e99aa0",
   "metadata": {},
   "outputs": [
    {
     "name": "stdout",
     "output_type": "stream",
     "text": [
      "Transaction 3TNSL4XQOE6UWAWRCSJRSSCXTR7WDTGRS2SX5KSFHSU7ZF2XO6IA confirmed in round 15106216.\n",
      "Asset ID: 18033198\n",
      "{\n",
      "    \"creator\": \"ATTR6RUEHHBHXKUHT4GUOYWNBVDV2GJ5FHUWCSFZLHD55EVKZWOWSM7ABQ\",\n",
      "    \"total\": 1000,\n",
      "    \"decimals\": 0,\n",
      "    \"defaultfrozen\": false,\n",
      "    \"unitname\": \"LATINUM\",\n",
      "    \"assetname\": \"latinum\",\n",
      "    \"url\": \"https://path/to/my/asset/details\",\n",
      "    \"managerkey\": \"AK6Q33PDO4RJZQPHEMODC6PUE5AR2UD4FBU6TNEJOU4UR4KC6XL5PWW5K4\",\n",
      "    \"reserveaddr\": \"AK6Q33PDO4RJZQPHEMODC6PUE5AR2UD4FBU6TNEJOU4UR4KC6XL5PWW5K4\",\n",
      "    \"freezeaddr\": \"AK6Q33PDO4RJZQPHEMODC6PUE5AR2UD4FBU6TNEJOU4UR4KC6XL5PWW5K4\",\n",
      "    \"clawbackaddr\": \"AK6Q33PDO4RJZQPHEMODC6PUE5AR2UD4FBU6TNEJOU4UR4KC6XL5PWW5K4\"\n",
      "}\n"
     ]
    }
   ],
   "source": [
    "# Wait for the transaction to be confirmed\n",
    "wait_for_tx_confirmation(txid)\n",
    "\n",
    "try:\n",
    "    # Pull account info for the creator\n",
    "    account_info = algod_client.account_info(accounts[1]['pk'])\n",
    "    # Get max asset ID\n",
    "    asset_id = max(\n",
    "        map(lambda x: int(x), account_info.get('thisassettotal').keys()))\n",
    "    print(\"Asset ID: {}\".format(asset_id))\n",
    "    print(json.dumps(account_info['thisassettotal'][str(asset_id)], indent=4))\n",
    "except Exception as e:\n",
    "    print(e)"
   ]
  },
  {
   "cell_type": "code",
   "execution_count": null,
   "id": "a1a83836",
   "metadata": {},
   "outputs": [],
   "source": []
  }
 ],
 "metadata": {
  "interpreter": {
   "hash": "386d83fb667d97e7b1f39f2e10f6e6364b1cd5c4a5a1ca02adf2fa8d04d5e51d"
  },
  "kernelspec": {
   "display_name": "Python 3",
   "language": "python",
   "name": "python3"
  },
  "language_info": {
   "codemirror_mode": {
    "name": "ipython",
    "version": 3
   },
   "file_extension": ".py",
   "mimetype": "text/x-python",
   "name": "python",
   "nbconvert_exporter": "python",
   "pygments_lexer": "ipython3",
   "version": "3.8.8"
  }
 },
 "nbformat": 4,
 "nbformat_minor": 5
}
