{
 "cells": [
  {
   "cell_type": "markdown",
   "id": "3358fe68",
   "metadata": {},
   "source": [
    "## SMART CONTRACTS"
   ]
  },
  {
   "cell_type": "code",
   "execution_count": 1,
   "id": "2b011246",
   "metadata": {},
   "outputs": [],
   "source": [
    "import pandas as pd\n",
    "import numpy as np"
   ]
  }
 ],
 "metadata": {
  "kernelspec": {
   "name": "python3",
   "display_name": "Python 3.8.8 64-bit (conda)"
  },
  "language_info": {
   "codemirror_mode": {
    "name": "ipython",
    "version": 3
   },
   "file_extension": ".py",
   "mimetype": "text/x-python",
   "name": "python",
   "nbconvert_exporter": "python",
   "pygments_lexer": "ipython3",
   "version": "3.8.8"
  },
  "interpreter": {
   "hash": "386d83fb667d97e7b1f39f2e10f6e6364b1cd5c4a5a1ca02adf2fa8d04d5e51d"
  }
 },
 "nbformat": 4,
 "nbformat_minor": 5
}