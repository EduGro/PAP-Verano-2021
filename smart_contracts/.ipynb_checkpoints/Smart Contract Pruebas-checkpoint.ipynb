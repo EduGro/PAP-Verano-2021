{
 "cells": [
  {
   "cell_type": "markdown",
   "id": "3358fe68",
   "metadata": {},
   "source": [
    "## SMART CONTRACTS"
   ]
  },
  {
   "cell_type": "code",
   "execution_count": 1,
   "id": "2b011246",
   "metadata": {},
   "outputs": [],
   "source": [
    "import pandas as pd\n",
    "import numpy as np"
   ]
  },
  {
   "cell_type": "code",
   "execution_count": 5,
   "id": "27901758",
   "metadata": {},
   "outputs": [],
   "source": [
    "import datetime\n",
    "import time\n",
    "import logging\n",
    "from abc import ABC, abstractmethod\n",
    "from typing import Tuple, Optional, Callable, List, Iterable"
   ]
  },
  {
   "cell_type": "code",
   "execution_count": 4,
   "id": "054ec424",
   "metadata": {},
   "outputs": [
    {
     "ename": "ModuleNotFoundError",
     "evalue": "No module named 'web3'",
     "output_type": "error",
     "traceback": [
      "\u001b[1;31m---------------------------------------------------------------------------\u001b[0m",
      "\u001b[1;31mModuleNotFoundError\u001b[0m                       Traceback (most recent call last)",
      "\u001b[1;32m<ipython-input-4-caff5b7bd155>\u001b[0m in \u001b[0;36m<module>\u001b[1;34m\u001b[0m\n\u001b[0;32m      5\u001b[0m \u001b[1;32mfrom\u001b[0m \u001b[0mtyping\u001b[0m \u001b[1;32mimport\u001b[0m \u001b[0mTuple\u001b[0m\u001b[1;33m,\u001b[0m \u001b[0mOptional\u001b[0m\u001b[1;33m,\u001b[0m \u001b[0mCallable\u001b[0m\u001b[1;33m,\u001b[0m \u001b[0mList\u001b[0m\u001b[1;33m,\u001b[0m \u001b[0mIterable\u001b[0m\u001b[1;33m\u001b[0m\u001b[1;33m\u001b[0m\u001b[0m\n\u001b[0;32m      6\u001b[0m \u001b[1;33m\u001b[0m\u001b[0m\n\u001b[1;32m----> 7\u001b[1;33m \u001b[1;32mfrom\u001b[0m \u001b[0mweb3\u001b[0m \u001b[1;32mimport\u001b[0m \u001b[0mWeb3\u001b[0m\u001b[1;33m\u001b[0m\u001b[1;33m\u001b[0m\u001b[0m\n\u001b[0m\u001b[0;32m      8\u001b[0m \u001b[1;32mfrom\u001b[0m \u001b[0mweb3\u001b[0m\u001b[1;33m.\u001b[0m\u001b[0mcontract\u001b[0m \u001b[1;32mimport\u001b[0m \u001b[0mContract\u001b[0m\u001b[1;33m\u001b[0m\u001b[1;33m\u001b[0m\u001b[0m\n\u001b[0;32m      9\u001b[0m \u001b[1;32mfrom\u001b[0m \u001b[0mweb3\u001b[0m\u001b[1;33m.\u001b[0m\u001b[0mdatastructures\u001b[0m \u001b[1;32mimport\u001b[0m \u001b[0mAttributeDict\u001b[0m\u001b[1;33m\u001b[0m\u001b[1;33m\u001b[0m\u001b[0m\n",
      "\u001b[1;31mModuleNotFoundError\u001b[0m: No module named 'web3'"
     ]
    }
   ],
   "source": [
    "import datetime\n",
    "import time\n",
    "import logging\n",
    "from abc import ABC, abstractmethod\n",
    "from typing import Tuple, Optional, Callable, List, Iterable\n",
    "\n",
    "from web3 import Web3\n",
    "from web3.contract import Contract\n",
    "from web3.datastructures import AttributeDict\n",
    "from web3.exceptions import BlockNotFound\n",
    "from eth_abi.codec import ABICodec\n",
    "\n",
    "# Currently this method is not exposed over official web3 API,\n",
    "# but we need it to construct eth_getLogs parameters\n",
    "from web3._utils.filters import construct_event_filter_params\n",
    "from web3._utils.events import get_event_data"
   ]
  },
  {
   "cell_type": "markdown",
   "id": "9a132688",
   "metadata": {},
   "source": [
    "## SISTEMAS DE PAGOS"
   ]
  },
  {
   "cell_type": "code",
   "execution_count": null,
   "id": "b6045047",
   "metadata": {},
   "outputs": [
    {
     "name": "stdout",
     "output_type": "stream",
     "text": [
      " * Serving Flask app \"__main__\" (lazy loading)\n",
      " * Environment: production\n",
      "   WARNING: This is a development server. Do not use it in a production deployment.\n",
      "   Use a production WSGI server instead.\n",
      " * Debug mode: off\n"
     ]
    },
    {
     "name": "stderr",
     "output_type": "stream",
     "text": [
      " * Running on http://127.0.0.1:4242/ (Press CTRL+C to quit)\n"
     ]
    }
   ],
   "source": [
    "# This example sets up an endpoint using the Flask framework.\n",
    "# Watch this video to get started: https://youtu.be/7Ul1vfmsDck.\n",
    "\n",
    "import os\n",
    "import stripe\n",
    "\n",
    "from flask import Flask, jsonify\n",
    "\n",
    "app = Flask(__name__)\n",
    "\n",
    "stripe.api_key = 'sk_test_4eC39HqLyjWDarjtT1zdp7dc'\n",
    "\n",
    "@app.route('/create-checkout-session', methods=['POST'])\n",
    "def create_checkout_session():\n",
    "  session = stripe.checkout.Session.create(\n",
    "    payment_method_types=['card'],\n",
    "    line_items=[{\n",
    "      'price_data': {\n",
    "        'currency': 'usd',\n",
    "        'product_data': {\n",
    "          'name': 'T-shirt',\n",
    "        },\n",
    "        'unit_amount': 2000,\n",
    "      },\n",
    "      'quantity': 1,\n",
    "    }],\n",
    "    mode='payment',\n",
    "    success_url='https://example.com/success',\n",
    "    cancel_url='https://example.com/cancel',\n",
    "  )\n",
    "\n",
    "  return jsonify(id=session.id)\n",
    "\n",
    "if __name__== '__main__':\n",
    "    app.run(port=4242)"
   ]
  },
  {
   "cell_type": "code",
   "execution_count": null,
   "id": "3baa9947",
   "metadata": {},
   "outputs": [],
   "source": []
  }
 ],
 "metadata": {
  "kernelspec": {
   "display_name": "Python 3",
   "language": "python",
   "name": "python3"
  },
  "language_info": {
   "codemirror_mode": {
    "name": "ipython",
    "version": 3
   },
   "file_extension": ".py",
   "mimetype": "text/x-python",
   "name": "python",
   "nbconvert_exporter": "python",
   "pygments_lexer": "ipython3",
   "version": "3.8.8"
  }
 },
 "nbformat": 4,
 "nbformat_minor": 5
}
