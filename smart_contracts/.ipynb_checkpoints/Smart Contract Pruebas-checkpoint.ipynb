{
 "cells": [
  {
   "cell_type": "markdown",
   "id": "3358fe68",
   "metadata": {},
   "source": [
    "## SMART CONTRACTS USING PY-ALGORAND"
   ]
  },
  {
   "cell_type": "code",
   "execution_count": 1,
   "id": "2b011246",
   "metadata": {},
   "outputs": [],
   "source": [
    "import json\n",
    "from algosdk import account, algod, mnemonic, transaction, encoding"
   ]
  },
  {
   "cell_type": "code",
   "execution_count": 2,
   "id": "537cea09",
   "metadata": {},
   "outputs": [
    {
     "name": "stdout",
     "output_type": "stream",
     "text": [
      "Private key: UtmuX36KLtm5IRrqEJRLoMGqWuur5mSywQkbPv+H0bi5P4ijzX/tBpgrvcYtRAXepANB6iMGhjqoyJNFYbJAqQ==\n",
      "Address: XE7YRI6NP7WQNGBLXXDC2RAF32SAGQPKEMDIMOVIZCJUKYNSICU7MW5UOQ\n",
      "The address is valid!\n"
     ]
    }
   ],
   "source": [
    "#First example\n",
    "\n",
    "# generate an account\n",
    "private_key, address = account.generate_account()\n",
    "print(\"Private key:\", private_key)\n",
    "print(\"Address:\", address)\n",
    "\n",
    "# check if the address is valid\n",
    "if encoding.is_valid_address(address):\n",
    "    print(\"The address is valid!\")\n",
    "else:\n",
    "    print(\"The address is invalid.\")"
   ]
  },
  {
   "cell_type": "code",
   "execution_count": 3,
   "id": "01014354",
   "metadata": {},
   "outputs": [],
   "source": [
    "#Create frase seed\n",
    "mnemonic1 = \"canal enact luggage spring similar zoo couple stomach shoe laptop middle wonder eager monitor weather number heavy skirt siren purity spell maze warfare ability ten\"\n",
    "mnemonic2 = \"beauty nurse season autumn curve slice cry strategy frozen spy panic hobby strong goose employ review love fee pride enlist friend enroll clip ability runway\"\n",
    "mnemonic3 = \"picnic bright know ticket purity pluck stumble destroy ugly tuna luggage quote frame loan wealth edge carpet drift cinnamon resemble shrimp grain dynamic absorb edge\"\n",
    "\n",
    "\n",
    "# For ease of reference, add account public and private keys to\n",
    "# an accounts dict.\n",
    "accounts = {}\n",
    "counter = 1\n",
    "for m in [mnemonic1, mnemonic2, mnemonic3]:\n",
    "    accounts[counter] = {}\n",
    "    accounts[counter]['pk'] = mnemonic.to_public_key(m)\n",
    "    accounts[counter]['sk'] = mnemonic.to_private_key(m)\n",
    "    counter += 1"
   ]
  },
  {
   "cell_type": "code",
   "execution_count": 4,
   "id": "9f34d602",
   "metadata": {},
   "outputs": [],
   "source": [
    "# Specify your node address and token. This must be updated.\n",
    "# algod_address = \"\"  # ADD ADDRESS\n",
    "# algod_token = \"\"  # ADD TOKEN\n",
    "\n",
    "algod_address = \"http://hackathon.algodev.network:9100\"\n",
    "algod_token = \"ef920e2e7e002953f4b29a8af720efe8e4ecc75ff102b165e0472834b25832c1\"\n"
   ]
  },
  {
   "cell_type": "code",
   "execution_count": 5,
   "id": "91138c4c",
   "metadata": {},
   "outputs": [],
   "source": [
    "# Initialize an algod client\n",
    "algod_client = algod.AlgodClient(algod_token, algod_address)"
   ]
  },
  {
   "cell_type": "code",
   "execution_count": 6,
   "id": "23acd1c7",
   "metadata": {},
   "outputs": [],
   "source": [
    "# Get network params for transactions.\n",
    "params = algod_client.suggested_params()\n",
    "first = params.get(\"lastRound\")\n",
    "last = first + 1000\n",
    "gen = params.get(\"genesisID\")\n",
    "gh = params.get(\"genesishashb64\")\n",
    "min_fee = params.get(\"minFee\")"
   ]
  },
  {
   "cell_type": "code",
   "execution_count": 7,
   "id": "51c697cc",
   "metadata": {},
   "outputs": [],
   "source": [
    "# Utility function to wait for a transaction to be confirmed by network\n",
    "\n",
    "def wait_for_tx_confirmation(txid):\n",
    "   last_round = algod_client.status().get('lastRound')\n",
    "   while True:\n",
    "       txinfo = algod_client.pending_transaction_info(txid)\n",
    "       if txinfo.get('round') and txinfo.get('round') > 0:\n",
    "           print(\"Transaction {} confirmed in round {}.\".format(\n",
    "               txid, txinfo.get('round')))\n",
    "           break\n",
    "       else:\n",
    "           print(\"Waiting for confirmation...\")\n",
    "           last_round += 1\n",
    "           algod_client.status_after_block(last_round)"
   ]
  },
  {
   "cell_type": "code",
   "execution_count": 8,
   "id": "cb1e03f4",
   "metadata": {},
   "outputs": [
    {
     "name": "stdout",
     "output_type": "stream",
     "text": [
      "Account 1 address: ATTR6RUEHHBHXKUHT4GUOYWNBVDV2GJ5FHUWCSFZLHD55EVKZWOWSM7ABQ\n",
      "Account 2 address: AK6Q33PDO4RJZQPHEMODC6PUE5AR2UD4FBU6TNEJOU4UR4KC6XL5PWW5K4\n",
      "Account 3 address: IWR4CLLCN2TIVX2QPVVKVR5ER5OZGMWAV5QB2UIPYMPKBPLJZX4C37C4AA\n"
     ]
    }
   ],
   "source": [
    "print(\"Account 1 address: {}\".format(accounts[1]['pk']))\n",
    "print(\"Account 2 address: {}\".format(accounts[2]['pk']))\n",
    "print(\"Account 3 address: {}\".format(accounts[3]['pk']))\n"
   ]
  },
  {
   "cell_type": "code",
   "execution_count": 9,
   "id": "4377bee1",
   "metadata": {},
   "outputs": [],
   "source": [
    "# Account 1 creates an asset called latinum and sets Account 2 as the manager, reserve, freeze, and clawback address.\n",
    "\n",
    "data = {\n",
    "    \"sender\": accounts[1]['pk'],\n",
    "    \"fee\": min_fee,\n",
    "    \"first\": first,\n",
    "    \"last\": last,\n",
    "    \"gh\": gh,\n",
    "    \"total\": 1000,\n",
    "    \"default_frozen\": False,\n",
    "    \"unit_name\": \"LATIMUN\",\n",
    "    \"asset_name\": \"latimun\",\n",
    "    \"manager\": accounts[2]['pk'],\n",
    "    \"reserve\": accounts[2]['pk'],\n",
    "    \"freeze\": accounts[2]['pk'],\n",
    "    \"clawback\": accounts[2]['pk'],\n",
    "    \"url\": \"https://path/to/my/asset/details\",\n",
    "    \"flat_fee\": True,\n",
    "    \"decimals\": 0\n",
    "}"
   ]
  },
  {
   "cell_type": "code",
   "execution_count": 10,
   "id": "d0fb95e0",
   "metadata": {},
   "outputs": [],
   "source": [
    "# Construct Asset Creation transaction\n",
    "txn = transaction.AssetConfigTxn(**data)"
   ]
  },
  {
   "cell_type": "code",
   "execution_count": 11,
   "id": "acd9d83b",
   "metadata": {},
   "outputs": [],
   "source": [
    "# Sign with secret key of creator\n",
    "stxn = txn.sign(accounts[1]['sk'])"
   ]
  },
  {
   "cell_type": "code",
   "execution_count": 12,
   "id": "50aa1f28",
   "metadata": {},
   "outputs": [
    {
     "name": "stdout",
     "output_type": "stream",
     "text": [
      "NNVBNI7KJXKZETWWZ37ZBPYDLJBMABVRGJRWZSC2Y5PKJGNJMFUQ\n"
     ]
    }
   ],
   "source": [
    "# Send the transaction to the network and retrieve the txid.\n",
    "txid = algod_client.send_transaction(stxn)\n",
    "print(txid)"
   ]
  },
  {
   "cell_type": "code",
   "execution_count": 13,
   "id": "867bcb25",
   "metadata": {},
   "outputs": [
    {
     "name": "stdout",
     "output_type": "stream",
     "text": [
      "Waiting for confirmation...\n",
      "Transaction NNVBNI7KJXKZETWWZ37ZBPYDLJBMABVRGJRWZSC2Y5PKJGNJMFUQ confirmed in round 15109880.\n",
      "Asset ID: 18050418\n",
      "{\n",
      "    \"creator\": \"ATTR6RUEHHBHXKUHT4GUOYWNBVDV2GJ5FHUWCSFZLHD55EVKZWOWSM7ABQ\",\n",
      "    \"total\": 1000,\n",
      "    \"decimals\": 0,\n",
      "    \"defaultfrozen\": false,\n",
      "    \"unitname\": \"LATIMUN\",\n",
      "    \"assetname\": \"latimun\",\n",
      "    \"url\": \"https://path/to/my/asset/details\",\n",
      "    \"managerkey\": \"AK6Q33PDO4RJZQPHEMODC6PUE5AR2UD4FBU6TNEJOU4UR4KC6XL5PWW5K4\",\n",
      "    \"reserveaddr\": \"AK6Q33PDO4RJZQPHEMODC6PUE5AR2UD4FBU6TNEJOU4UR4KC6XL5PWW5K4\",\n",
      "    \"freezeaddr\": \"AK6Q33PDO4RJZQPHEMODC6PUE5AR2UD4FBU6TNEJOU4UR4KC6XL5PWW5K4\",\n",
      "    \"clawbackaddr\": \"AK6Q33PDO4RJZQPHEMODC6PUE5AR2UD4FBU6TNEJOU4UR4KC6XL5PWW5K4\"\n",
      "}\n"
     ]
    }
   ],
   "source": [
    "# Wait for the transaction to be confirmed\n",
    "wait_for_tx_confirmation(txid)\n",
    "\n",
    "try:\n",
    "    # Pull account info for the creator\n",
    "    account_info = algod_client.account_info(accounts[1]['pk'])\n",
    "    # Get max asset ID\n",
    "    asset_id = max(\n",
    "        map(lambda x: int(x), account_info.get('thisassettotal').keys()))\n",
    "    print(\"Asset ID: {}\".format(asset_id))\n",
    "    print(json.dumps(account_info['thisassettotal'][str(asset_id)], indent=4))\n",
    "except Exception as e:\n",
    "    print(e)"
   ]
  },
  {
   "cell_type": "code",
   "execution_count": 14,
   "id": "148ec8b1",
   "metadata": {},
   "outputs": [
    {
     "name": "stdout",
     "output_type": "stream",
     "text": [
      "T5IXKOO4QXCF3V7SILCCDQ3HJE7K7IJPPZGUR57XMRTDHBZKNCWA\n"
     ]
    }
   ],
   "source": [
    "# asset_id = 328952;\n",
    "data = {\n",
    "    \"sender\": accounts[2]['pk'],\n",
    "    \"fee\": min_fee,\n",
    "    \"first\": first,\n",
    "    \"last\": last,\n",
    "    \"gh\": gh,\n",
    "    \"index\": asset_id,\n",
    "    \"manager\": accounts[1]['pk'],\n",
    "    \"reserve\": accounts[2]['pk'],\n",
    "    \"freeze\": accounts[2]['pk'],\n",
    "    \"clawback\": accounts[2]['pk'],\n",
    "    \"flat_fee\": True\n",
    "}\n",
    "txn = transaction.AssetConfigTxn(**data)\n",
    "# sign by the current manager\n",
    "stxn = txn.sign(accounts[2]['sk'])\n",
    "txid = algod_client.send_transaction(stxn)\n",
    "print(txid)"
   ]
  },
  {
   "cell_type": "code",
   "execution_count": 15,
   "id": "384b59be",
   "metadata": {},
   "outputs": [
    {
     "name": "stdout",
     "output_type": "stream",
     "text": [
      "Waiting for confirmation...\n",
      "Transaction T5IXKOO4QXCF3V7SILCCDQ3HJE7K7IJPPZGUR57XMRTDHBZKNCWA confirmed in round 15109882.\n"
     ]
    }
   ],
   "source": [
    "# Wait for the transaction to be confirmed\n",
    "wait_for_tx_confirmation(txid)"
   ]
  },
  {
   "cell_type": "code",
   "execution_count": 16,
   "id": "a04491c3",
   "metadata": {},
   "outputs": [
    {
     "name": "stdout",
     "output_type": "stream",
     "text": [
      "{\n",
      "    \"creator\": \"ATTR6RUEHHBHXKUHT4GUOYWNBVDV2GJ5FHUWCSFZLHD55EVKZWOWSM7ABQ\",\n",
      "    \"total\": 1000,\n",
      "    \"decimals\": 0,\n",
      "    \"defaultfrozen\": false,\n",
      "    \"unitname\": \"LATIMUN\",\n",
      "    \"assetname\": \"latimun\",\n",
      "    \"url\": \"https://path/to/my/asset/details\",\n",
      "    \"managerkey\": \"ATTR6RUEHHBHXKUHT4GUOYWNBVDV2GJ5FHUWCSFZLHD55EVKZWOWSM7ABQ\",\n",
      "    \"reserveaddr\": \"AK6Q33PDO4RJZQPHEMODC6PUE5AR2UD4FBU6TNEJOU4UR4KC6XL5PWW5K4\",\n",
      "    \"freezeaddr\": \"AK6Q33PDO4RJZQPHEMODC6PUE5AR2UD4FBU6TNEJOU4UR4KC6XL5PWW5K4\",\n",
      "    \"clawbackaddr\": \"AK6Q33PDO4RJZQPHEMODC6PUE5AR2UD4FBU6TNEJOU4UR4KC6XL5PWW5K4\"\n",
      "}\n"
     ]
    }
   ],
   "source": [
    "# Check asset info to view change in management.\n",
    "asset_info = algod_client.asset_info(asset_id)\n",
    "print(json.dumps(asset_info, indent=4))"
   ]
  },
  {
   "cell_type": "code",
   "execution_count": 17,
   "id": "f1b776b6",
   "metadata": {},
   "outputs": [],
   "source": [
    "# opt-in\n",
    "# Check if asset_id is in account 3's asset holdings prior to opt-in\n",
    "account_info = algod_client.account_info(accounts[3]['pk'])\n",
    "holding = None\n",
    "if 'assets' in account_info:\n",
    "    holding = account_info['assets'].get(str(asset_id))\n",
    "\n",
    "if not holding:\n",
    "    # Get latest network parameters\n",
    "    data = {\n",
    "        \"sender\": accounts[3]['pk'],\n",
    "        \"fee\": min_fee,\n",
    "        \"first\": first,\n",
    "        \"last\": last,\n",
    "        \"gh\": gh,\n",
    "        \"receiver\": accounts[3][\"pk\"],\n",
    "        \"amt\": 0,\n",
    "        \"index\": asset_id,\n",
    "        \"flat_fee\": True\n",
    "    }"
   ]
  },
  {
   "cell_type": "code",
   "execution_count": 18,
   "id": "8bbb7c30",
   "metadata": {},
   "outputs": [
    {
     "name": "stdout",
     "output_type": "stream",
     "text": [
      "VU6BNHCOZAUUAHBS72DFT4TFHZTFVEMITJ46LGH5CYZHPYD564BA\n",
      "Waiting for confirmation...\n",
      "Transaction VU6BNHCOZAUUAHBS72DFT4TFHZTFVEMITJ46LGH5CYZHPYD564BA confirmed in round 15109884.\n",
      "{\n",
      "    \"creator\": \"ATTR6RUEHHBHXKUHT4GUOYWNBVDV2GJ5FHUWCSFZLHD55EVKZWOWSM7ABQ\",\n",
      "    \"amount\": 0,\n",
      "    \"frozen\": false\n",
      "}\n"
     ]
    }
   ],
   "source": [
    "# Use the AssetTransferTxn class to transfer assets and opt-in\n",
    "txn = transaction.AssetTransferTxn(**data)\n",
    "stxn = txn.sign(accounts[3]['sk'])\n",
    "txid = algod_client.send_transaction(stxn)\n",
    "print(txid)\n",
    "# Wait for the transaction to be confirmed\n",
    "wait_for_tx_confirmation(txid)\n",
    "# Now check the asset holding for that account.\n",
    "# This should now show a holding with a balance of 0.\n",
    "account_info = algod_client.account_info(accounts[3]['pk'])\n",
    "print(json.dumps(account_info['assets'][str(asset_id)], indent=4))"
   ]
  },
  {
   "cell_type": "code",
   "execution_count": 19,
   "id": "9ecd5546",
   "metadata": {},
   "outputs": [
    {
     "name": "stdout",
     "output_type": "stream",
     "text": [
      "5R4BYLBWLOZCVW3FPYSPBSYHDWHZHGGZGA2SRRXHYU7MAMLQ6SDQ\n"
     ]
    }
   ],
   "source": [
    "# transfer asset of 10 from account 1 to account 3\n",
    "data = {\n",
    "    \"sender\": accounts[1]['pk'],\n",
    "    \"fee\": min_fee,\n",
    "    \"first\": first,\n",
    "    \"last\": last,\n",
    "    \"gh\": gh,\n",
    "    \"receiver\": accounts[3][\"pk\"],\n",
    "    \"amt\": 10,\n",
    "    \"index\": asset_id,\n",
    "    \"flat_fee\": True\n",
    "}\n",
    "\n",
    "txn = transaction.AssetTransferTxn(**data)\n",
    "stxn = txn.sign(accounts[1]['sk'])\n",
    "txid = algod_client.send_transaction(stxn)\n",
    "print(txid)"
   ]
  },
  {
   "cell_type": "code",
   "execution_count": 20,
   "id": "1a46c797",
   "metadata": {},
   "outputs": [
    {
     "name": "stdout",
     "output_type": "stream",
     "text": [
      "Waiting for confirmation...\n",
      "Transaction 5R4BYLBWLOZCVW3FPYSPBSYHDWHZHGGZGA2SRRXHYU7MAMLQ6SDQ confirmed in round 15109886.\n",
      "{\n",
      "    \"creator\": \"ATTR6RUEHHBHXKUHT4GUOYWNBVDV2GJ5FHUWCSFZLHD55EVKZWOWSM7ABQ\",\n",
      "    \"amount\": 10,\n",
      "    \"frozen\": false\n",
      "}\n"
     ]
    }
   ],
   "source": [
    "# Wait for the transaction to be confirmed\n",
    "wait_for_tx_confirmation(txid)\n",
    "# The balance should now be 10.\n",
    "account_info = algod_client.account_info(accounts[3]['pk'])\n",
    "print(json.dumps(account_info['assets'][str(asset_id)], indent=4))"
   ]
  },
  {
   "cell_type": "code",
   "execution_count": 21,
   "id": "c1932388",
   "metadata": {},
   "outputs": [
    {
     "name": "stdout",
     "output_type": "stream",
     "text": [
      "DTWHWE3JH7VMHRBPT3G5PLSWHQ7VZHA5ELPGZTI6AUG65VPPH7WA\n",
      "Waiting for confirmation...\n",
      "Transaction DTWHWE3JH7VMHRBPT3G5PLSWHQ7VZHA5ELPGZTI6AUG65VPPH7WA confirmed in round 15109888.\n",
      "{\n",
      "    \"creator\": \"ATTR6RUEHHBHXKUHT4GUOYWNBVDV2GJ5FHUWCSFZLHD55EVKZWOWSM7ABQ\",\n",
      "    \"amount\": 10,\n",
      "    \"frozen\": true\n",
      "}\n"
     ]
    }
   ],
   "source": [
    "# The freeze address (Account 2) freezes Account 3's latinum holdings.\n",
    "data = {\n",
    "    \"sender\": accounts[2]['pk'],\n",
    "    \"fee\": min_fee,\n",
    "    \"first\": first,\n",
    "    \"last\": last,\n",
    "    \"gh\": gh,\n",
    "    \"index\": asset_id,\n",
    "    \"target\": accounts[3][\"pk\"],\n",
    "    \"new_freeze_state\": True\n",
    "}\n",
    "\n",
    "txn = transaction.AssetFreezeTxn(**data)\n",
    "stxn = txn.sign(accounts[2]['sk'])\n",
    "txid = algod_client.send_transaction(stxn)\n",
    "print(txid)\n",
    "# Wait for the transaction to be confirmed\n",
    "wait_for_tx_confirmation(txid)\n",
    "# The balance should now be 10.\n",
    "account_info = algod_client.account_info(accounts[3]['pk'])\n",
    "print(json.dumps(account_info['assets'][str(asset_id)], indent=4))"
   ]
  },
  {
   "cell_type": "code",
   "execution_count": 22,
   "id": "96935eff",
   "metadata": {},
   "outputs": [
    {
     "name": "stdout",
     "output_type": "stream",
     "text": [
      "DTICZVPTUPXM6A4AGVDGVBUF5XR4BDJGIANDWXDQS5SECSMSFLXQ\n",
      "Waiting for confirmation...\n",
      "Transaction DTICZVPTUPXM6A4AGVDGVBUF5XR4BDJGIANDWXDQS5SECSMSFLXQ confirmed in round 15109890.\n",
      "Account 3\n",
      "{\n",
      "    \"creator\": \"ATTR6RUEHHBHXKUHT4GUOYWNBVDV2GJ5FHUWCSFZLHD55EVKZWOWSM7ABQ\",\n",
      "    \"amount\": 0,\n",
      "    \"frozen\": true\n",
      "}\n",
      "Account 1\n",
      "{\n",
      "    \"creator\": \"ATTR6RUEHHBHXKUHT4GUOYWNBVDV2GJ5FHUWCSFZLHD55EVKZWOWSM7ABQ\",\n",
      "    \"amount\": 1000,\n",
      "    \"frozen\": false\n",
      "}\n"
     ]
    }
   ],
   "source": [
    "# The clawback address (Account 2) revokes 10 latinum from Account 3 and places it back with Account 1.\n",
    "data = {\n",
    "    \"sender\": accounts[2]['pk'],\n",
    "    \"fee\": min_fee,\n",
    "    \"first\": first,\n",
    "    \"last\": last,\n",
    "    \"gh\": gh,\n",
    "    \"receiver\": accounts[1][\"pk\"],\n",
    "    \"amt\": 10,\n",
    "    \"index\": asset_id,\n",
    "    \"revocation_target\": accounts[3]['pk'],\n",
    "    \"flat_fee\": True\n",
    "}\n",
    "# Must be signed by the account that is the clawback address\n",
    "txn = transaction.AssetTransferTxn(**data)\n",
    "stxn = txn.sign(accounts[2]['sk'])\n",
    "txid = algod_client.send_transaction(stxn)\n",
    "print(txid)\n",
    "# Wait for the transaction to be confirmed\n",
    "wait_for_tx_confirmation(txid)\n",
    "# The balance of account 3 should now be 0.\n",
    "account_info = algod_client.account_info(accounts[3]['pk'])\n",
    "print(\"Account 3\")\n",
    "print(json.dumps(account_info['assets'][str(asset_id)], indent=4))\n",
    "# The balance of account 1 should increase by 10 to 1000.\n",
    "print(\"Account 1\")\n",
    "account_info = algod_client.account_info(accounts[1]['pk'])\n",
    "print(json.dumps(account_info['assets'][str(asset_id)], indent=4))"
   ]
  },
  {
   "cell_type": "code",
   "execution_count": 23,
   "id": "1daef40e",
   "metadata": {},
   "outputs": [],
   "source": [
    "# With all assets back in the creator's account,\n",
    "# the manager (Account 1) destroys the asset.\n",
    "\n",
    "data = {\n",
    "    \"sender\": accounts[1]['pk'],\n",
    "    \"fee\": min_fee,\n",
    "    \"first\": first,\n",
    "    \"last\": last,\n",
    "    \"gh\": gh,\n",
    "    \"index\": asset_id,\n",
    "    \"strict_empty_address_check\": False,\n",
    "    \"flat_fee\": True\n",
    "}\n"
   ]
  },
  {
   "cell_type": "code",
   "execution_count": 24,
   "id": "5d6bebd8",
   "metadata": {},
   "outputs": [],
   "source": [
    "# Construct Asset Creation transaction\n",
    "txn = transaction.AssetConfigTxn(**data)"
   ]
  },
  {
   "cell_type": "code",
   "execution_count": 25,
   "id": "2a3d5b29",
   "metadata": {},
   "outputs": [],
   "source": [
    "# Sign with secret key of creator\n",
    "stxn = txn.sign(accounts[1]['sk'])\n"
   ]
  },
  {
   "cell_type": "code",
   "execution_count": 26,
   "id": "21c9cb72",
   "metadata": {},
   "outputs": [
    {
     "name": "stdout",
     "output_type": "stream",
     "text": [
      "GR5VTHKY7TXBSER4VLTAGVLJG6MDWXUYQQGDAH6F54R42SWKEQIQ\n"
     ]
    }
   ],
   "source": [
    "# Send the transaction to the network and retrieve the txid.\n",
    "txid = algod_client.send_transaction(stxn)\n",
    "print(txid)"
   ]
  },
  {
   "cell_type": "code",
   "execution_count": 27,
   "id": "2e39873e",
   "metadata": {},
   "outputs": [
    {
     "name": "stdout",
     "output_type": "stream",
     "text": [
      "Waiting for confirmation...\n",
      "Transaction GR5VTHKY7TXBSER4VLTAGVLJG6MDWXUYQQGDAH6F54R42SWKEQIQ confirmed in round 15109892.\n"
     ]
    }
   ],
   "source": [
    "# Wait for the transaction to be confirmed\n",
    "wait_for_tx_confirmation(txid)"
   ]
  },
  {
   "cell_type": "code",
   "execution_count": 28,
   "id": "f69794ae",
   "metadata": {},
   "outputs": [
    {
     "name": "stdout",
     "output_type": "stream",
     "text": [
      "failed to retrieve asset creator from the ledger\n"
     ]
    }
   ],
   "source": [
    "# This should raise an exception since the asset was deleted.\n",
    "try:\n",
    "    asset_info = algod_client.asset_info(asset_id)\n",
    "except Exception as e:\n",
    "    print(e)"
   ]
  },
  {
   "cell_type": "code",
   "execution_count": 29,
   "id": "3ef08a8b",
   "metadata": {},
   "outputs": [
    {
     "name": "stdout",
     "output_type": "stream",
     "text": [
      "Account 1\n",
      "FTLUAPKIILXOITRSJHILW3I7U2PHANIRVEHWZ2SXT3Y6MNJBDOJJVPFBOE\n",
      "Account 2\n",
      "UGR33FU65BX5ZHIN2OROILJ3CBCKTSTMDPZBY322BZ33NOSRS72PR5LZNM\n",
      "Account 3\n",
      "V3MFRTI7FTRCSZSVJNTNUAHZIIR5V7VFZ6VBAILTPFDEQ2RZYQW2UO22HU\n",
      "\n",
      "Copy off accounts above and add TestNet Algo funds using the TestNet Dispenser at https://bank.testnet.algorand.network/\n",
      "copy off the following mnemonic code for use later\n",
      "\n",
      "mnemonic1 = \"spray lunch scorpion ritual nature spread domain hen biology asset audit congress mistake banner ready robot glory dial identify coast gift clarify verb absorb gloom\"\n",
      "mnemonic2 = \"lift final supply blouse essence glow follow spike unveil critic next helmet case certain balcony useless couple cup clump betray flat glance cancel able divorce\"\n",
      "mnemonic3 = \"design melody earth cabbage exclude emerge helmet alone buddy laugh rug able reopen blame mask kick staff version expect decide urge high brand abandon toddler\"\n"
     ]
    }
   ],
   "source": [
    "acct = account.generate_account()\n",
    "address1 = acct[1]\n",
    "print(\"Account 1\")\n",
    "print(address1)\n",
    "mnemonic1 = mnemonic.from_private_key(acct[0])\n",
    "\n",
    "print(\"Account 2\")\n",
    "acct = account.generate_account()\n",
    "address2 = acct[1]\n",
    "print(address2)\n",
    "mnemonic2 = mnemonic.from_private_key(acct[0])\n",
    "\n",
    "print(\"Account 3\")\n",
    "acct = account.generate_account()\n",
    "address3 = acct[1]\n",
    "print(address3)\n",
    "mnemonic3 = mnemonic.from_private_key(acct[0])\n",
    "print (\"\")\n",
    "print(\"Copy off accounts above and add TestNet Algo funds using the TestNet Dispenser at https://bank.testnet.algorand.network/\")\n",
    "print(\"copy off the following mnemonic code for use later\")\n",
    "print(\"\")\n",
    "print(\"mnemonic1 = \\\"{}\\\"\".format(mnemonic1))\n",
    "print(\"mnemonic2 = \\\"{}\\\"\".format(mnemonic2))\n",
    "print(\"mnemonic3 = \\\"{}\\\"\".format(mnemonic3))"
   ]
  },
  {
   "cell_type": "code",
   "execution_count": null,
   "id": "66e14cfd",
   "metadata": {},
   "outputs": [],
   "source": []
  }
 ],
 "metadata": {
  "interpreter": {
   "hash": "386d83fb667d97e7b1f39f2e10f6e6364b1cd5c4a5a1ca02adf2fa8d04d5e51d"
  },
  "kernelspec": {
   "display_name": "Python 3",
   "language": "python",
   "name": "python3"
  },
  "language_info": {
   "codemirror_mode": {
    "name": "ipython",
    "version": 3
   },
   "file_extension": ".py",
   "mimetype": "text/x-python",
   "name": "python",
   "nbconvert_exporter": "python",
   "pygments_lexer": "ipython3",
   "version": "3.8.8"
  }
 },
 "nbformat": 4,
 "nbformat_minor": 5
}
