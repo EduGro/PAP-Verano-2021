{
 "cells": [
  {
   "cell_type": "markdown",
   "id": "3358fe68",
   "metadata": {},
   "source": [
    "<center> <font color=red > <font size = 7> NFTs on AlgoRand  </font> <br> <br> <font color= b> <font size = 5> Algorand Standar Asset (ASA) </font>\n"
   ]
  },
  {
   "cell_type": "markdown",
   "id": "5a293ac7",
   "metadata": {},
   "source": [
    "El protocolo Algorand permite la creación de activos en la cadena que se benefician de la misma seguridad, compatibilidad, velocidad y facilidad de uso que el Algo. El nombre oficial de los activos en Algorand es Algorand Standard Assets (*ASA*).\n",
    "\n",
    "Con los activos estándar de Algorand puedes representar stablecoins, loyalty points, system credits, and in-game points, por nombrar algunos ejemplos. También puedes representar activos únicos, como la escritura de una casa, objetos coleccionables, piezas únicas en una cadena de suministro, etc. También hay una funcionalidad opcional para colocar restricciones de transferencia en un activo que ayuda a apoyar los casos de uso de valores, cumplimiento y certificación.\n",
    "\n",
    "Los activos que representan muchos del mismo tipo, como una stablecoin, pueden denominarse activos fungibles. Los activos únicos se denominan activos no fungibles (NFT).\n",
    "\n",
    "El método principal que un desarrollador o usuario de Algorand puede utilizar para construir y desplegar una NFT es mediante la función ASA. Esta función es una primitiva de capa 1 que permite crear una NFT o FT en segundos. Estos activos no requieren ningún código de contrato inteligente. Sólo se necesita una transacción en la blockchain de Algorand para crear un NFT. Esta transacción describe las propiedades, tanto mutables como inmutables, del token.\n",
    "\n"
   ]
  },
  {
   "cell_type": "markdown",
   "id": "19b9668a",
   "metadata": {},
   "source": [
    "### Immutable Asset Parameters\n",
    "\n",
    "-Creator (required)\n",
    "\n",
    "-AssetName (optional, but recommended)\n",
    "\n",
    "-UnitName (optional, but recommended)\n",
    "\n",
    "-Total (required)\n",
    "\n",
    "-Decimals (required)\n",
    "\n",
    "-DefaultFrozen (required)\n",
    "\n",
    "-URL (optional)\n",
    "\n",
    "-MetaDataHash (optional)\n"
   ]
  },
  {
   "cell_type": "markdown",
   "id": "842c7c38",
   "metadata": {},
   "source": [
    "## Mutable Asset Parameters\n",
    "\n",
    "-Manager Address\n",
    "\n",
    "-Reserve Address\n",
    "\n",
    "-Freeze Address\n",
    "\n",
    "-Clawback Address\n"
   ]
  },
  {
   "cell_type": "markdown",
   "id": "e2af9c70",
   "metadata": {},
   "source": [
    "<hr style=\"border:0.02in solid red\"> </hr>"
   ]
  },
  {
   "cell_type": "code",
   "execution_count": 1,
   "id": "6221a15e",
   "metadata": {},
   "outputs": [],
   "source": [
    "import json\n",
    "from algosdk.v2client import algod\n",
    "from algosdk import account, mnemonic\n",
    "from algosdk.future.transaction import AssetConfigTxn, AssetTransferTxn, AssetFreezeTxn"
   ]
  },
  {
   "cell_type": "markdown",
   "id": "41b8eeab",
   "metadata": {},
   "source": [
    "<font color= \"brown\"> <font size = 5> CREATE ACCOUNTS </font>"
   ]
  },
  {
   "cell_type": "markdown",
   "id": "eb18ba08",
   "metadata": {},
   "source": [
    "Se crean cuentas genéricas para el desarrollo del código. Organizador y Equipo es necesario que tengan un Wallet para las transacciones en blockchain."
   ]
  },
  {
   "cell_type": "code",
   "execution_count": 2,
   "id": "e296dbe9",
   "metadata": {},
   "outputs": [
    {
     "name": "stdout",
     "output_type": "stream",
     "text": [
      "Account 1\n",
      "QIY62PY2N4KWNEU4ZCEWJW75N7ERORNSZTNHCHBL3GOOGK7II4SLLEQW3Q\n",
      "Account 2\n",
      "KD3DOD7FGUHPULGNNYNLGMQWNUO3O2IU36IYTS2IDCMKTNG6UR26KWJHX4\n",
      "Account 3\n",
      "LDR3PSD42DVMZX6W62CBKQLH3ICDXK736GMRTADLQRPV4JC4E5CMP3EPTA\n",
      "\n",
      "\n",
      "mnemonic1 = \"replace slender dinosaur keep light custom gentle solve tail mystery decide elevator measure neutral excuse sausage cinnamon brass correct boy forward chaos marine about estate\"\n",
      "mnemonic2 = \"input verb injury midnight essay upset immense film health slab soul series reflect able budget leisure tool neglect laundry foot keep wait web about oak\"\n",
      "mnemonic3 = \"wait rice fatigue capable joy please tumble foil approve palm series company skirt action absurd unit connect also door prosper merit drop mesh ability cute\"\n"
     ]
    }
   ],
   "source": [
    "acct = account.generate_account()\n",
    "address1 = acct[1]\n",
    "print(\"Account 1\")\n",
    "print(address1)\n",
    "mnemonic1 = mnemonic.from_private_key(acct[0])\n",
    "\n",
    "print(\"Account 2\")\n",
    "acct = account.generate_account()\n",
    "address2 = acct[1]\n",
    "print(address2)\n",
    "mnemonic2 = mnemonic.from_private_key(acct[0])\n",
    "\n",
    "print(\"Account 3\")\n",
    "acct = account.generate_account()\n",
    "address3 = acct[1]\n",
    "print(address3)\n",
    "mnemonic3 = mnemonic.from_private_key(acct[0])\n",
    "print (\"\")\n",
    "\n",
    "print(\"\")\n",
    "print(\"mnemonic1 = \\\"{}\\\"\".format(mnemonic1))\n",
    "print(\"mnemonic2 = \\\"{}\\\"\".format(mnemonic2))\n",
    "print(\"mnemonic3 = \\\"{}\\\"\".format(mnemonic3))"
   ]
  },
  {
   "cell_type": "code",
   "execution_count": 3,
   "id": "b6bbc8d8",
   "metadata": {},
   "outputs": [],
   "source": [
    "# copy and paste the mnemonic\n",
    "mnemonic1 = \"canal enact luggage spring similar zoo couple stomach shoe laptop middle wonder eager monitor weather number heavy skirt siren purity spell maze warfare ability ten\"\n",
    "mnemonic2 = \"beauty nurse season autumn curve slice cry strategy frozen spy panic hobby strong goose employ review love fee pride enlist friend enroll clip ability runway\"\n",
    "mnemonic3 = \"picnic bright know ticket purity pluck stumble destroy ugly tuna luggage quote frame loan wealth edge carpet drift cinnamon resemble shrimp grain dynamic absorb edge\"\n",
    "\n"
   ]
  },
  {
   "cell_type": "code",
   "execution_count": 4,
   "id": "25f46e6d",
   "metadata": {},
   "outputs": [],
   "source": [
    "# For ease of reference, add account public and private keys to\n",
    "# an accounts dict.\n",
    "accounts = {}\n",
    "counter = 1\n",
    "for m in [mnemonic1, mnemonic2, mnemonic3]:\n",
    "    accounts[counter] = {}\n",
    "    accounts[counter]['pk'] = mnemonic.to_public_key(m)\n",
    "    accounts[counter]['sk'] = mnemonic.to_private_key(m)\n",
    "    counter += 1"
   ]
  },
  {
   "cell_type": "code",
   "execution_count": 5,
   "id": "f9fe2167",
   "metadata": {},
   "outputs": [],
   "source": [
    "# Specify your node address and token. This must be updated.\n",
    "algod_address = \"http://hackathon.algodev.network:9100\"\n",
    "algod_token = \"ef920e2e7e002953f4b29a8af720efe8e4ecc75ff102b165e0472834b25832c1\""
   ]
  },
  {
   "cell_type": "code",
   "execution_count": 6,
   "id": "db3f3927",
   "metadata": {},
   "outputs": [
    {
     "name": "stdout",
     "output_type": "stream",
     "text": [
      "Organizador 1 address: ATTR6RUEHHBHXKUHT4GUOYWNBVDV2GJ5FHUWCSFZLHD55EVKZWOWSM7ABQ\n",
      "Organizador 2 address: AK6Q33PDO4RJZQPHEMODC6PUE5AR2UD4FBU6TNEJOU4UR4KC6XL5PWW5K4\n",
      "Equipo 3 address: IWR4CLLCN2TIVX2QPVVKVR5ER5OZGMWAV5QB2UIPYMPKBPLJZX4C37C4AA\n"
     ]
    }
   ],
   "source": [
    "# Initialize an algod client\n",
    "algod_client = algod.AlgodClient(algod_token=algod_token, algod_address=algod_address)\n",
    "\n",
    "def wait_for_confirmation(client, txid):\n",
    "    \"\"\"\n",
    "    Utility function to wait until the transaction is\n",
    "    confirmed before proceeding.\n",
    "    \"\"\"\n",
    "    last_round = client.status().get('last-round')\n",
    "    txinfo = client.pending_transaction_info(txid)\n",
    "    while not (txinfo.get('confirmed-round') and txinfo.get('confirmed-round') > 0):\n",
    "        print(\"Waiting for confirmation\")\n",
    "        last_round += 1\n",
    "        client.status_after_block(last_round)\n",
    "        txinfo = client.pending_transaction_info(txid)\n",
    "    print(\"Transaction {} confirmed in round {}.\".format(txid, txinfo.get('confirmed-round')))\n",
    "    return txinfo\n",
    "\n",
    "#   Utility function used to print created asset for account and assetid\n",
    "def print_created_asset(algodclient, account, assetid):    \n",
    "    # note: if you have an indexer instance available it is easier to just use this\n",
    "    # response = myindexer.accounts(asset_id = assetid)\n",
    "    # then use 'account_info['created-assets'][0] to get info on the created asset\n",
    "    account_info = algodclient.account_info(account)\n",
    "    idx = 0;\n",
    "    for my_account_info in account_info['created-assets']:\n",
    "        scrutinized_asset = account_info['created-assets'][idx]\n",
    "        idx = idx + 1       \n",
    "        if (scrutinized_asset['index'] == assetid):\n",
    "            print(\"Asset ID: {}\".format(scrutinized_asset['index']))\n",
    "            print(json.dumps(my_account_info['params'], indent=4))\n",
    "            break\n",
    "\n",
    "#   Utility function used to print asset holding for account and assetid\n",
    "def print_asset_holding(algodclient, account, assetid):\n",
    "    # note: if you have an indexer instance available it is easier to just use this\n",
    "    # response = myindexer.accounts(asset_id = assetid)\n",
    "    # then loop thru the accounts returned and match the account you are looking for\n",
    "    account_info = algodclient.account_info(account)\n",
    "    idx = 0\n",
    "    for my_account_info in account_info['assets']:\n",
    "        scrutinized_asset = account_info['assets'][idx]\n",
    "        idx = idx + 1        \n",
    "        if (scrutinized_asset['asset-id'] == assetid):\n",
    "            print(\"Asset ID: {}\".format(scrutinized_asset['asset-id']))\n",
    "            print(json.dumps(scrutinized_asset, indent=4))\n",
    "            break\n",
    "\n",
    "print(\"Organizador 1 address: {}\".format(accounts[1]['pk']))\n",
    "print(\"Organizador 2 address: {}\".format(accounts[2]['pk']))\n",
    "print(\"Equipo 3 address: {}\".format(accounts[3]['pk']))\n"
   ]
  },
  {
   "cell_type": "markdown",
   "id": "0dd8b653",
   "metadata": {},
   "source": [
    "<font color= \"brown\"> <font size = 5> CREATE ASSET </font>\n"
   ]
  },
  {
   "cell_type": "markdown",
   "id": "32c4b261",
   "metadata": {},
   "source": [
    "Cree activos usando los SDKs (Software Development Kit) o el objetivo. Cuando se utilizan los SDKs se suministran todos los parámetros de creación. Con goal, la gestión de las distintas direcciones asociadas al activo debe hacerse después de ejecutar la creación de un activo."
   ]
  },
  {
   "cell_type": "code",
   "execution_count": 7,
   "id": "1b7762e9",
   "metadata": {},
   "outputs": [
    {
     "name": "stdout",
     "output_type": "stream",
     "text": [
      "5YDQNKDU3FWLH5NTSO7SAGGFAMIF34HL3PE46L3TF7NNHPKQKJEQ\n",
      "Waiting for confirmation\n",
      "Transaction 5YDQNKDU3FWLH5NTSO7SAGGFAMIF34HL3PE46L3TF7NNHPKQKJEQ confirmed in round 15288147.\n",
      "Asset ID: 18915984\n",
      "{\n",
      "    \"clawback\": \"AK6Q33PDO4RJZQPHEMODC6PUE5AR2UD4FBU6TNEJOU4UR4KC6XL5PWW5K4\",\n",
      "    \"creator\": \"ATTR6RUEHHBHXKUHT4GUOYWNBVDV2GJ5FHUWCSFZLHD55EVKZWOWSM7ABQ\",\n",
      "    \"decimals\": 0,\n",
      "    \"default-frozen\": false,\n",
      "    \"freeze\": \"AK6Q33PDO4RJZQPHEMODC6PUE5AR2UD4FBU6TNEJOU4UR4KC6XL5PWW5K4\",\n",
      "    \"manager\": \"AK6Q33PDO4RJZQPHEMODC6PUE5AR2UD4FBU6TNEJOU4UR4KC6XL5PWW5K4\",\n",
      "    \"name\": \"NFT\",\n",
      "    \"reserve\": \"AK6Q33PDO4RJZQPHEMODC6PUE5AR2UD4FBU6TNEJOU4UR4KC6XL5PWW5K4\",\n",
      "    \"total\": 1000,\n",
      "    \"unit-name\": \"USDT\",\n",
      "    \"url\": \"https://path/to/my/asset/details\"\n",
      "}\n",
      "Asset ID: 18915984\n",
      "{\n",
      "    \"amount\": 1000,\n",
      "    \"asset-id\": 18915984,\n",
      "    \"creator\": \"ATTR6RUEHHBHXKUHT4GUOYWNBVDV2GJ5FHUWCSFZLHD55EVKZWOWSM7ABQ\",\n",
      "    \"is-frozen\": false\n",
      "}\n"
     ]
    }
   ],
   "source": [
    "# Get network params for transactions before every transaction.\n",
    "params = algod_client.suggested_params()\n",
    "# comment these two lines if you want to use suggested params\n",
    "params.fee = 1000\n",
    "params.flat_fee = True\n",
    "\n",
    "# Account 1 creates an asset called nft and\n",
    "# sets Account 2 as the manager, reserve, freeze, and clawback address.\n",
    "# Asset Creation transaction\n",
    "\n",
    "txn = AssetConfigTxn(\n",
    "    sender=accounts[1]['pk'],\n",
    "    sp=params,\n",
    "    total=1000,\n",
    "    default_frozen=False,\n",
    "    unit_name=\"USDT\",\n",
    "    asset_name=\"NFT\",\n",
    "    manager=accounts[2]['pk'],\n",
    "    reserve=accounts[2]['pk'],\n",
    "    freeze=accounts[2]['pk'],\n",
    "    clawback=accounts[2]['pk'],\n",
    "    url=\"https://path/to/my/asset/details\", \n",
    "    decimals=0)\n",
    "# Sign with secret key of creator\n",
    "stxn = txn.sign(accounts[1]['sk'])\n",
    "\n",
    "# Send the transaction to the network and retrieve the txid.\n",
    "txid = algod_client.send_transaction(stxn)\n",
    "print(txid)\n",
    "\n",
    "# Retrieve the asset ID of the newly created asset by first\n",
    "# ensuring that the creation transaction was confirmed,\n",
    "# then grabbing the asset id from the transaction.\n",
    "\n",
    "# Wait for the transaction to be confirmed\n",
    "wait_for_confirmation(algod_client,txid)\n",
    "\n",
    "try:\n",
    "    # Pull account info for the creator\n",
    "    # account_info = algod_client.account_info(accounts[1]['pk'])\n",
    "    # get asset_id from tx\n",
    "    # Get the new asset's information from the creator account\n",
    "    ptx = algod_client.pending_transaction_info(txid)\n",
    "    asset_id = ptx[\"asset-index\"]\n",
    "    print_created_asset(algod_client, accounts[1]['pk'], asset_id)\n",
    "    print_asset_holding(algod_client, accounts[1]['pk'], asset_id)\n",
    "except Exception as e:\n",
    "    print(e)"
   ]
  },
  {
   "cell_type": "markdown",
   "id": "ca6129fa",
   "metadata": {},
   "source": [
    "<font color= \"brown\"> <font size = 5> CHANGE MANAGER </font>"
   ]
  },
  {
   "cell_type": "markdown",
   "id": "169a966d",
   "metadata": {},
   "source": [
    "Una vez creado un activo, sólo pueden modificarse las cuentas de gestor, reserva, congelación y recuperación. Todos los demás parámetros están bloqueados durante la vida del activo. Si alguna de estas direcciones se establece como \"\", esa dirección se borrará y no podrá restablecerse nunca durante la vida del activo. Sólo la cuenta del gestor puede realizar cambios de configuración y debe autorizar la transacción."
   ]
  },
  {
   "cell_type": "code",
   "execution_count": 8,
   "id": "ea47c395",
   "metadata": {},
   "outputs": [
    {
     "name": "stdout",
     "output_type": "stream",
     "text": [
      "UYVP4ZIYTWUPT6ZMHV2AQ33OFXIMSDL43LSWQQFIVCYVPNUYURDQ\n",
      "Waiting for confirmation\n",
      "Transaction UYVP4ZIYTWUPT6ZMHV2AQ33OFXIMSDL43LSWQQFIVCYVPNUYURDQ confirmed in round 15288150.\n",
      "Asset ID: 18915984\n",
      "{\n",
      "    \"clawback\": \"AK6Q33PDO4RJZQPHEMODC6PUE5AR2UD4FBU6TNEJOU4UR4KC6XL5PWW5K4\",\n",
      "    \"creator\": \"ATTR6RUEHHBHXKUHT4GUOYWNBVDV2GJ5FHUWCSFZLHD55EVKZWOWSM7ABQ\",\n",
      "    \"decimals\": 0,\n",
      "    \"default-frozen\": false,\n",
      "    \"freeze\": \"AK6Q33PDO4RJZQPHEMODC6PUE5AR2UD4FBU6TNEJOU4UR4KC6XL5PWW5K4\",\n",
      "    \"manager\": \"ATTR6RUEHHBHXKUHT4GUOYWNBVDV2GJ5FHUWCSFZLHD55EVKZWOWSM7ABQ\",\n",
      "    \"name\": \"NFT\",\n",
      "    \"reserve\": \"AK6Q33PDO4RJZQPHEMODC6PUE5AR2UD4FBU6TNEJOU4UR4KC6XL5PWW5K4\",\n",
      "    \"total\": 1000,\n",
      "    \"unit-name\": \"USDT\",\n",
      "    \"url\": \"https://path/to/my/asset/details\"\n",
      "}\n"
     ]
    }
   ],
   "source": [
    "# The current manager(Account 2) issues an asset configuration transaction that assigns Account 1 as the new manager.\n",
    "# Keep reserve, freeze, and clawback address same as before, i.e. account 2\n",
    "params = algod_client.suggested_params()\n",
    "# comment these two lines if you want to use suggested params\n",
    "params.fee = 1000\n",
    "params.flat_fee = True\n",
    "\n",
    "# asset_id = 328952;\n",
    "\n",
    "txn = AssetConfigTxn(\n",
    "    sender=accounts[2]['pk'],\n",
    "    sp=params,\n",
    "    index=asset_id, \n",
    "    manager=accounts[1]['pk'],\n",
    "    reserve=accounts[2]['pk'],\n",
    "    freeze=accounts[2]['pk'],\n",
    "    clawback=accounts[2]['pk'])\n",
    "# sign by the current manager - Account 2\n",
    "stxn = txn.sign(accounts[2]['sk'])\n",
    "txid = algod_client.send_transaction(stxn)\n",
    "print(txid)\n",
    "\n",
    "# Wait for the transaction to be confirmed\n",
    "wait_for_confirmation(algod_client, txid)\n",
    "\n",
    "# Check asset info to view change in management. manager should now be account 1\n",
    "print_created_asset(algod_client, accounts[1]['pk'], asset_id)"
   ]
  },
  {
   "cell_type": "markdown",
   "id": "3896aba3",
   "metadata": {},
   "source": [
    "<font color= \"brown\"> <font size = 5> OPT-IN </font>"
   ]
  },
  {
   "cell_type": "markdown",
   "id": "9f02d9b2",
   "metadata": {},
   "source": [
    "Antes de que una cuenta pueda recibir un activo específico, debe optar por recibirlo. Una transacción opt-in coloca una tenencia de activos de 0 en la cuenta y aumenta su saldo mínimo en 100.000 microAlgos. Una transacción opt-in es simplemente una transferencia de activos con una cantidad de 0, tanto hacia como desde la cuenta opt-in."
   ]
  },
  {
   "cell_type": "code",
   "execution_count": 10,
   "id": "e80cef12",
   "metadata": {},
   "outputs": [
    {
     "name": "stdout",
     "output_type": "stream",
     "text": [
      "XH4ENNT5UENATGF36NH53NCUFHUKFP2YADL77YYAHZ526AKO44MA\n",
      "Waiting for confirmation\n",
      "Transaction XH4ENNT5UENATGF36NH53NCUFHUKFP2YADL77YYAHZ526AKO44MA confirmed in round 15288156.\n",
      "Asset ID: 18915984\n",
      "{\n",
      "    \"amount\": 0,\n",
      "    \"asset-id\": 18915984,\n",
      "    \"creator\": \"ATTR6RUEHHBHXKUHT4GUOYWNBVDV2GJ5FHUWCSFZLHD55EVKZWOWSM7ABQ\",\n",
      "    \"is-frozen\": false\n",
      "}\n"
     ]
    }
   ],
   "source": [
    "# Check if asset_id is in account 3's asset holdings prior\n",
    "# to opt-in\n",
    "params = algod_client.suggested_params()\n",
    "# comment these two lines if you want to use suggested params\n",
    "params.fee = 1000\n",
    "params.flat_fee = True\n",
    "\n",
    "account_info = algod_client.account_info(accounts[3]['pk'])\n",
    "holding = None\n",
    "idx = 0\n",
    "for my_account_info in account_info['assets']:\n",
    "    scrutinized_asset = account_info['assets'][idx]\n",
    "    idx = idx + 1    \n",
    "    if (scrutinized_asset['asset-id'] == asset_id):\n",
    "        holding = True\n",
    "        break\n",
    "\n",
    "if not holding:\n",
    "\n",
    "    # Use the AssetTransferTxn class to transfer assets and opt-in\n",
    "    txn = AssetTransferTxn(\n",
    "        sender=accounts[3]['pk'],\n",
    "        sp=params,\n",
    "        receiver=accounts[3][\"pk\"],\n",
    "        amt=0,\n",
    "        index=asset_id)\n",
    "    stxn = txn.sign(accounts[3]['sk'])\n",
    "    txid = algod_client.send_transaction(stxn)\n",
    "    print(txid)\n",
    "    # Wait for the transaction to be confirmed\n",
    "    wait_for_confirmation(algod_client, txid)\n",
    "    # Now check the asset holding for that account.\n",
    "    # This should now show a holding with a balance of 0.\n",
    "    print_asset_holding(algod_client, accounts[3]['pk'], asset_id)"
   ]
  },
  {
   "cell_type": "markdown",
   "id": "596f12c2",
   "metadata": {},
   "source": [
    "<font color= \"brown\"> <font size = 5> TRANSFER ASSET </font>"
   ]
  },
  {
   "cell_type": "markdown",
   "id": "a2609621",
   "metadata": {},
   "source": [
    "Los activos pueden ser transferidos entre cuentas que han optado por recibir el activo. Son análogas a las transacciones de pago estándar, pero para los activos estándar de Algorand."
   ]
  },
  {
   "cell_type": "code",
   "execution_count": 11,
   "id": "5be78972",
   "metadata": {},
   "outputs": [
    {
     "name": "stdout",
     "output_type": "stream",
     "text": [
      "JEFMIYKS4FJ7TV36KLHS6AI4LCHD7BBRMTF3Y6BDI6RERBAP4BAQ\n",
      "Waiting for confirmation\n",
      "Transaction JEFMIYKS4FJ7TV36KLHS6AI4LCHD7BBRMTF3Y6BDI6RERBAP4BAQ confirmed in round 15288162.\n",
      "Asset ID: 18915984\n",
      "{\n",
      "    \"amount\": 10,\n",
      "    \"asset-id\": 18915984,\n",
      "    \"creator\": \"ATTR6RUEHHBHXKUHT4GUOYWNBVDV2GJ5FHUWCSFZLHD55EVKZWOWSM7ABQ\",\n",
      "    \"is-frozen\": false\n",
      "}\n"
     ]
    }
   ],
   "source": [
    "# transfer asset of 10 from account 1 to account 3\n",
    "params = algod_client.suggested_params()\n",
    "# comment these two lines if you want to use suggested params\n",
    "params.fee = 1000\n",
    "params.flat_fee = True\n",
    "txn = AssetTransferTxn(\n",
    "    sender=accounts[1]['pk'],\n",
    "    sp=params,\n",
    "    receiver=accounts[3][\"pk\"],\n",
    "    amt=10,\n",
    "    index=asset_id)\n",
    "stxn = txn.sign(accounts[1]['sk'])\n",
    "txid = algod_client.send_transaction(stxn)\n",
    "print(txid)\n",
    "# Wait for the transaction to be confirmed\n",
    "wait_for_confirmation(algod_client, txid)\n",
    "# The balance should now be 10.\n",
    "print_asset_holding(algod_client, accounts[3]['pk'], asset_id)"
   ]
  },
  {
   "cell_type": "markdown",
   "id": "545c5385",
   "metadata": {},
   "source": [
    "<font color= \"brown\"> <font size = 5> FREEZE ASSET </font>"
   ]
  },
  {
   "cell_type": "markdown",
   "id": "b6f9764a",
   "metadata": {},
   "source": [
    "La congelación o descongelación de un activo para una cuenta requiere una transacción firmada por la cuenta congelada. "
   ]
  },
  {
   "cell_type": "code",
   "execution_count": 12,
   "id": "5568edcd",
   "metadata": {},
   "outputs": [
    {
     "name": "stdout",
     "output_type": "stream",
     "text": [
      "ZG7GJVUVRKW37V2QJ7OTAQVD5UZL2KX67PB3WNK56R3ITLLGR7RA\n",
      "Waiting for confirmation\n",
      "Transaction ZG7GJVUVRKW37V2QJ7OTAQVD5UZL2KX67PB3WNK56R3ITLLGR7RA confirmed in round 15288165.\n",
      "Asset ID: 18915984\n",
      "{\n",
      "    \"amount\": 10,\n",
      "    \"asset-id\": 18915984,\n",
      "    \"creator\": \"ATTR6RUEHHBHXKUHT4GUOYWNBVDV2GJ5FHUWCSFZLHD55EVKZWOWSM7ABQ\",\n",
      "    \"is-frozen\": true\n",
      "}\n"
     ]
    }
   ],
   "source": [
    "params = algod_client.suggested_params()\n",
    "# comment these two lines if you want to use suggested params\n",
    "params.fee = 1000\n",
    "params.flat_fee = True\n",
    "# The freeze address (Account 2) freezes Account 3's latinum holdings.\n",
    "\n",
    "txn = AssetFreezeTxn(\n",
    "    sender=accounts[2]['pk'],\n",
    "    sp=params,\n",
    "    index=asset_id,\n",
    "    target=accounts[3][\"pk\"],\n",
    "    new_freeze_state=True   \n",
    "    )\n",
    "stxn = txn.sign(accounts[2]['sk'])\n",
    "txid = algod_client.send_transaction(stxn)\n",
    "print(txid)\n",
    "# Wait for the transaction to be confirmed\n",
    "wait_for_confirmation(algod_client, txid)\n",
    "# The balance should now be 10 with frozen set to true.\n",
    "print_asset_holding(algod_client, accounts[3]['pk'], asset_id)"
   ]
  },
  {
   "cell_type": "markdown",
   "id": "2be89b76",
   "metadata": {},
   "source": [
    "<font color= \"brown\"> <font size = 5> REVOKE ASSET </font>"
   ]
  },
  {
   "cell_type": "markdown",
   "id": "92efa697",
   "metadata": {},
   "source": [
    "La revocación de un activo para una cuenta elimina un número específico del activo de la cuenta de destino de la revocación. La revocación de un activo de una cuenta requiere especificar un remitente de activos (la cuenta de destino de la revocación) y un receptor de activos (la cuenta a la que transferir los fondos de nuevo)."
   ]
  },
  {
   "cell_type": "code",
   "execution_count": 14,
   "id": "1474e302",
   "metadata": {},
   "outputs": [
    {
     "name": "stdout",
     "output_type": "stream",
     "text": [
      "5JAE6EHI24LT2NXR7HHMT7VR5QSXGRF7WC35AXJME5ZLHPAK4D3Q\n",
      "Waiting for confirmation\n",
      "Transaction 5JAE6EHI24LT2NXR7HHMT7VR5QSXGRF7WC35AXJME5ZLHPAK4D3Q confirmed in round 15288172.\n",
      "Equipo\n",
      "Asset ID: 18915984\n",
      "{\n",
      "    \"amount\": 0,\n",
      "    \"asset-id\": 18915984,\n",
      "    \"creator\": \"ATTR6RUEHHBHXKUHT4GUOYWNBVDV2GJ5FHUWCSFZLHD55EVKZWOWSM7ABQ\",\n",
      "    \"is-frozen\": true\n",
      "}\n",
      "Organizador\n",
      "Asset ID: 18915984\n",
      "{\n",
      "    \"amount\": 1000,\n",
      "    \"asset-id\": 18915984,\n",
      "    \"creator\": \"ATTR6RUEHHBHXKUHT4GUOYWNBVDV2GJ5FHUWCSFZLHD55EVKZWOWSM7ABQ\",\n",
      "    \"is-frozen\": false\n",
      "}\n"
     ]
    }
   ],
   "source": [
    "# The clawback address (Account 2) revokes 10 latinum from Account 3 and places it back with Account 1.\n",
    "params = algod_client.suggested_params()\n",
    "# comment these two lines if you want to use suggested params\n",
    "params.fee = 1000\n",
    "params.flat_fee = True\n",
    "\n",
    "# Must be signed by the account that is the Asset's clawback address\n",
    "txn = AssetTransferTxn(\n",
    "    sender=accounts[2]['pk'],\n",
    "    sp=params,\n",
    "    receiver=accounts[1][\"pk\"],\n",
    "    amt=10,\n",
    "    index=asset_id,\n",
    "    revocation_target=accounts[3]['pk']\n",
    "    )\n",
    "stxn = txn.sign(accounts[2]['sk'])\n",
    "txid = algod_client.send_transaction(stxn)\n",
    "print(txid)\n",
    "# Wait for the transaction to be confirmed\n",
    "wait_for_confirmation(algod_client, txid)\n",
    "# The balance of account 3 should now be 0.\n",
    "# account_info = algod_client.account_info(accounts[3]['pk'])\n",
    "print(\"Equipo\")\n",
    "print_asset_holding(algod_client, accounts[3]['pk'], asset_id)\n",
    "\n",
    "# The balance of account 1 should increase by 10 to 1000.\n",
    "print(\"Organizador\")\n",
    "print_asset_holding(algod_client, accounts[1]['pk'], asset_id)"
   ]
  },
  {
   "cell_type": "markdown",
   "id": "b826f39e",
   "metadata": {},
   "source": [
    "<font color= \"brown\"> <font size = 5> DESTROY ASSET </font>"
   ]
  },
  {
   "cell_type": "markdown",
   "id": "26ed30dc",
   "metadata": {},
   "source": [
    "Los activos creados sólo pueden ser destruidos por la cuenta del gestor de activos. Todos los activos deben ser propiedad del creador del activo antes de que éste pueda ser eliminado."
   ]
  },
  {
   "cell_type": "code",
   "execution_count": 15,
   "id": "2a9ae5d4",
   "metadata": {},
   "outputs": [
    {
     "name": "stdout",
     "output_type": "stream",
     "text": [
      "CB52P64DMD4CIQMOWLLOGVET4V7ANEND37OKYSQOANNTYXP7ZYYA\n",
      "Waiting for confirmation\n",
      "Transaction CB52P64DMD4CIQMOWLLOGVET4V7ANEND37OKYSQOANNTYXP7ZYYA confirmed in round 15288178.\n",
      "El equipo debe hacer una transacción por un importe de 0, \n",
      "con un close_assets_to a la cuenta del creador, para borrarla de su contabilidad\n",
      "En el caso de Organizador, no debería imprimirse nada después de esto, ya que el activo se destruye en la cuenta del creador\n"
     ]
    }
   ],
   "source": [
    "# With all assets back in the creator's account,\n",
    "# the manager (Account 1) destroys the asset.\n",
    "params = algod_client.suggested_params()\n",
    "# comment these two lines if you want to use suggested params\n",
    "params.fee = 1000\n",
    "params.flat_fee = True\n",
    "\n",
    "# Asset destroy transaction\n",
    "txn = AssetConfigTxn(\n",
    "    sender=accounts[1]['pk'],\n",
    "    sp=params,\n",
    "    index=asset_id,\n",
    "    strict_empty_address_check=False\n",
    "    )\n",
    "\n",
    "# Sign with secret key of creator\n",
    "stxn = txn.sign(accounts[1]['sk'])\n",
    "# Send the transaction to the network and retrieve the txid.\n",
    "txid = algod_client.send_transaction(stxn)\n",
    "print(txid)\n",
    "# Wait for the transaction to be confirmed\n",
    "wait_for_confirmation(algod_client, txid)\n",
    "\n",
    "# Asset was deleted.\n",
    "try:\n",
    "    print(\"El equipo debe hacer una transacción por un importe de 0, \" )\n",
    "    print(\"con un close_assets_to a la cuenta del creador, para borrarla de su contabilidad\")\n",
    "    print(\"En el caso de Organizador, no debería imprimirse nada después de esto, ya que el activo se destruye en la cuenta del creador\")\n",
    "   \n",
    "    print_asset_holding(algod_client, accounts[1]['pk'], asset_id)\n",
    "    print_created_asset(algod_client, accounts[1]['pk'], asset_id)\n",
    "    # asset_info = algod_client.asset_info(asset_id)\n",
    "except Exception as e:\n",
    "    print(e)"
   ]
  },
  {
   "cell_type": "code",
   "execution_count": 16,
   "id": "f7c178ee",
   "metadata": {},
   "outputs": [
    {
     "name": "stdout",
     "output_type": "stream",
     "text": [
      "Contract Address: CB52P64DMD4CIQMOWLLOGVET4V7ANEND37OKYSQOANNTYXP7ZYYA\n",
      "Token ID: 15288178\n"
     ]
    }
   ],
   "source": [
    "print(\"Contract Address: CB52P64DMD4CIQMOWLLOGVET4V7ANEND37OKYSQOANNTYXP7ZYYA\")\n",
    "print(\"Token ID: 15288178\")"
   ]
  },
  {
   "cell_type": "markdown",
   "id": "d0af992f",
   "metadata": {},
   "source": [
    "[Building NFTs on Algorand](https://developer.algorand.org/articles/building-nfts-on-algorand/)"
   ]
  }
 ],
 "metadata": {
  "interpreter": {
   "hash": "386d83fb667d97e7b1f39f2e10f6e6364b1cd5c4a5a1ca02adf2fa8d04d5e51d"
  },
  "kernelspec": {
   "display_name": "Python 3",
   "language": "python",
   "name": "python3"
  },
  "language_info": {
   "codemirror_mode": {
    "name": "ipython",
    "version": 3
   },
   "file_extension": ".py",
   "mimetype": "text/x-python",
   "name": "python",
   "nbconvert_exporter": "python",
   "pygments_lexer": "ipython3",
   "version": "3.8.8"
  }
 },
 "nbformat": 4,
 "nbformat_minor": 5
}
