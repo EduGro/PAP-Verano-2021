{
 "cells": [
  {
   "cell_type": "markdown",
   "id": "3358fe68",
   "metadata": {},
   "source": [
    "# SMART CONTRACTS USING PY-ALGORAND"
   ]
  },
  {
   "cell_type": "markdown",
   "id": "321b362f",
   "metadata": {},
   "source": [
    "El protocolo Algorand permite la creación de activos en la cadena que se benefician de la misma seguridad, compatibilidad, velocidad y facilidad de uso que el Algo. El nombre oficial de los activos en Algorand es Algorand Standard Assets (ASA).\n",
    "\n",
    "Con los activos estándar de Algorand puedes representar stablecoins, loyalty points, system credits, and in-game points, por nombrar algunos ejemplos. También puedes representar activos únicos, como la escritura de una casa, objetos coleccionables, piezas únicas en una cadena de suministro, etc. También hay una funcionalidad opcional para colocar restricciones de transferencia en un activo que ayuda a apoyar los casos de uso de valores, cumplimiento y certificación.\n",
    "\n",
    "Los activos que representan muchos del mismo tipo, como una stablecoin, pueden denominarse activos fungibles. Los activos únicos se denominan activos no fungibles (NFT)."
   ]
  },
  {
   "cell_type": "code",
   "execution_count": 1,
   "id": "9e4090a1",
   "metadata": {},
   "outputs": [],
   "source": [
    "import json\n",
    "from algosdk.v2client import algod\n",
    "from algosdk import account, mnemonic\n",
    "from algosdk.future.transaction import AssetConfigTxn, AssetTransferTxn, AssetFreezeTxn"
   ]
  },
  {
   "cell_type": "markdown",
   "id": "06b8fb6b",
   "metadata": {},
   "source": [
    "## Creación de la dirección y frase semilla de cuentas genéricas"
   ]
  },
  {
   "cell_type": "code",
   "execution_count": 2,
   "id": "33f59f39",
   "metadata": {},
   "outputs": [
    {
     "name": "stdout",
     "output_type": "stream",
     "text": [
      "Account 1\n",
      "TIBUCP5EVTAXJF6GUDO52IX6EN43OSZRFUFIBSLXXSTXLFKOB656VWEFDE\n",
      "Account 2\n",
      "FKDVQV6LIKFR66RHA6IA47LOXBKSF6HW43LQD6RYVLJRXMDTMU3U6IHGKA\n",
      "Account 3\n",
      "6UU6XG3P3F6VUTM3UAWLRTOBDVAIKSY4LCGICV3TLUKKK355O2UWTOQJC4\n",
      "\n",
      "\n",
      "mnemonic1 = \"follow radar dwarf stable spike suspect unhappy patrol ask dance hint outdoor dirt year banner jewel sugar angry doll father occur since grass able afford\"\n",
      "mnemonic2 = \"cruel girl effort sell social inhale sting cushion one home absurd inform raccoon finish lawn alley month sad burst bird boy album spell abandon exact\"\n",
      "mnemonic3 = \"dinner hello rocket salon assault drastic tumble wrestle excuse excuse beyond tunnel protect tank assist spend myth bless pluck harbor bar gas opera about room\"\n"
     ]
    }
   ],
   "source": [
    "acct = account.generate_account()\n",
    "address1 = acct[1]\n",
    "print(\"Account 1\")\n",
    "print(address1)\n",
    "mnemonic1 = mnemonic.from_private_key(acct[0])\n",
    "\n",
    "print(\"Account 2\")\n",
    "acct = account.generate_account()\n",
    "address2 = acct[1]\n",
    "print(address2)\n",
    "mnemonic2 = mnemonic.from_private_key(acct[0])\n",
    "\n",
    "print(\"Account 3\")\n",
    "acct = account.generate_account()\n",
    "address3 = acct[1]\n",
    "print(address3)\n",
    "mnemonic3 = mnemonic.from_private_key(acct[0])\n",
    "print (\"\")\n",
    "\n",
    "print(\"\")\n",
    "print(\"mnemonic1 = \\\"{}\\\"\".format(mnemonic1))\n",
    "print(\"mnemonic2 = \\\"{}\\\"\".format(mnemonic2))\n",
    "print(\"mnemonic3 = \\\"{}\\\"\".format(mnemonic3))"
   ]
  },
  {
   "cell_type": "code",
   "execution_count": 3,
   "id": "a9e1ad9e",
   "metadata": {},
   "outputs": [],
   "source": [
    "# copy and paste the mnemonic\n",
    "mnemonic1 = \"canal enact luggage spring similar zoo couple stomach shoe laptop middle wonder eager monitor weather number heavy skirt siren purity spell maze warfare ability ten\"\n",
    "mnemonic2 = \"beauty nurse season autumn curve slice cry strategy frozen spy panic hobby strong goose employ review love fee pride enlist friend enroll clip ability runway\"\n",
    "mnemonic3 = \"picnic bright know ticket purity pluck stumble destroy ugly tuna luggage quote frame loan wealth edge carpet drift cinnamon resemble shrimp grain dynamic absorb edge\"\n",
    "\n"
   ]
  },
  {
   "cell_type": "code",
   "execution_count": 4,
   "id": "e85453c1",
   "metadata": {},
   "outputs": [],
   "source": [
    "# For ease of reference, add account public and private keys to\n",
    "# an accounts dict.\n",
    "accounts = {}\n",
    "counter = 1\n",
    "for m in [mnemonic1, mnemonic2, mnemonic3]:\n",
    "    accounts[counter] = {}\n",
    "    accounts[counter]['pk'] = mnemonic.to_public_key(m)\n",
    "    accounts[counter]['sk'] = mnemonic.to_private_key(m)\n",
    "    counter += 1"
   ]
  },
  {
   "cell_type": "code",
   "execution_count": 5,
   "id": "2c38d721",
   "metadata": {},
   "outputs": [],
   "source": [
    "# Specify your node address and token. This must be updated.\n",
    "algod_address = \"http://hackathon.algodev.network:9100\"\n",
    "algod_token = \"ef920e2e7e002953f4b29a8af720efe8e4ecc75ff102b165e0472834b25832c1\""
   ]
  },
  {
   "cell_type": "code",
   "execution_count": 6,
   "id": "b1a167a0",
   "metadata": {},
   "outputs": [
    {
     "name": "stdout",
     "output_type": "stream",
     "text": [
      "Organizador 1 address: ATTR6RUEHHBHXKUHT4GUOYWNBVDV2GJ5FHUWCSFZLHD55EVKZWOWSM7ABQ\n",
      "Organizador 2 address: AK6Q33PDO4RJZQPHEMODC6PUE5AR2UD4FBU6TNEJOU4UR4KC6XL5PWW5K4\n",
      "Organizador 3 address: IWR4CLLCN2TIVX2QPVVKVR5ER5OZGMWAV5QB2UIPYMPKBPLJZX4C37C4AA\n"
     ]
    }
   ],
   "source": [
    "# Initialize an algod client\n",
    "algod_client = algod.AlgodClient(algod_token=algod_token, algod_address=algod_address)\n",
    "\n",
    "def wait_for_confirmation(client, txid):\n",
    "    \"\"\"\n",
    "    Utility function to wait until the transaction is\n",
    "    confirmed before proceeding.\n",
    "    \"\"\"\n",
    "    last_round = client.status().get('last-round')\n",
    "    txinfo = client.pending_transaction_info(txid)\n",
    "    while not (txinfo.get('confirmed-round') and txinfo.get('confirmed-round') > 0):\n",
    "        print(\"Waiting for confirmation\")\n",
    "        last_round += 1\n",
    "        client.status_after_block(last_round)\n",
    "        txinfo = client.pending_transaction_info(txid)\n",
    "    print(\"Transaction {} confirmed in round {}.\".format(txid, txinfo.get('confirmed-round')))\n",
    "    return txinfo\n",
    "\n",
    "#   Utility function used to print created asset for account and assetid\n",
    "def print_created_asset(algodclient, account, assetid):    \n",
    "    # note: if you have an indexer instance available it is easier to just use this\n",
    "    # response = myindexer.accounts(asset_id = assetid)\n",
    "    # then use 'account_info['created-assets'][0] to get info on the created asset\n",
    "    account_info = algodclient.account_info(account)\n",
    "    idx = 0;\n",
    "    for my_account_info in account_info['created-assets']:\n",
    "        scrutinized_asset = account_info['created-assets'][idx]\n",
    "        idx = idx + 1       \n",
    "        if (scrutinized_asset['index'] == assetid):\n",
    "            print(\"Asset ID: {}\".format(scrutinized_asset['index']))\n",
    "            print(json.dumps(my_account_info['params'], indent=4))\n",
    "            break\n",
    "\n",
    "#   Utility function used to print asset holding for account and assetid\n",
    "def print_asset_holding(algodclient, account, assetid):\n",
    "    # note: if you have an indexer instance available it is easier to just use this\n",
    "    # response = myindexer.accounts(asset_id = assetid)\n",
    "    # then loop thru the accounts returned and match the account you are looking for\n",
    "    account_info = algodclient.account_info(account)\n",
    "    idx = 0\n",
    "    for my_account_info in account_info['assets']:\n",
    "        scrutinized_asset = account_info['assets'][idx]\n",
    "        idx = idx + 1        \n",
    "        if (scrutinized_asset['asset-id'] == assetid):\n",
    "            print(\"Asset ID: {}\".format(scrutinized_asset['asset-id']))\n",
    "            print(json.dumps(scrutinized_asset, indent=4))\n",
    "            break\n",
    "\n",
    "print(\"Organizador 1 address: {}\".format(accounts[1]['pk']))\n",
    "print(\"Organizador 2 address: {}\".format(accounts[2]['pk']))\n",
    "print(\"Organizador 3 address: {}\".format(accounts[3]['pk']))\n"
   ]
  },
  {
   "cell_type": "markdown",
   "id": "2007d62a",
   "metadata": {},
   "source": [
    "### Immutable Asset Parameters\n",
    "\n",
    "-Creator (required)\n",
    "\n",
    "-AssetName (optional, but recommended)\n",
    "\n",
    "-UnitName (optional, but recommended)\n",
    "\n",
    "-Total (required)\n",
    "\n",
    "-Decimals (required)\n",
    "\n",
    "-DefaultFrozen (required)\n",
    "\n",
    "-URL (optional)\n",
    "\n",
    "-MetaDataHash (optional)\n"
   ]
  },
  {
   "cell_type": "markdown",
   "id": "a396d754",
   "metadata": {},
   "source": [
    "## CREATE ASSET\n",
    "\n",
    "Cree activos usando los SDKs o el objetivo. Cuando se utilizan los SDKs se suministran todos los parámetros de creación. Con goal, la gestión de las distintas direcciones asociadas al activo debe hacerse después de ejecutar la creación de un activo."
   ]
  },
  {
   "cell_type": "code",
   "execution_count": 7,
   "id": "0ed9d886",
   "metadata": {},
   "outputs": [
    {
     "name": "stdout",
     "output_type": "stream",
     "text": [
      "D4BSZUIZ4UOFQEXRVZJDNLX2WKJ2K5SNMEXYTP2Y43AYEQMEM7YA\n",
      "Waiting for confirmation\n",
      "Transaction D4BSZUIZ4UOFQEXRVZJDNLX2WKJ2K5SNMEXYTP2Y43AYEQMEM7YA confirmed in round 15277712.\n",
      "Asset ID: 18865393\n",
      "{\n",
      "    \"clawback\": \"AK6Q33PDO4RJZQPHEMODC6PUE5AR2UD4FBU6TNEJOU4UR4KC6XL5PWW5K4\",\n",
      "    \"creator\": \"ATTR6RUEHHBHXKUHT4GUOYWNBVDV2GJ5FHUWCSFZLHD55EVKZWOWSM7ABQ\",\n",
      "    \"decimals\": 0,\n",
      "    \"default-frozen\": false,\n",
      "    \"freeze\": \"AK6Q33PDO4RJZQPHEMODC6PUE5AR2UD4FBU6TNEJOU4UR4KC6XL5PWW5K4\",\n",
      "    \"manager\": \"AK6Q33PDO4RJZQPHEMODC6PUE5AR2UD4FBU6TNEJOU4UR4KC6XL5PWW5K4\",\n",
      "    \"name\": \"nft\",\n",
      "    \"reserve\": \"AK6Q33PDO4RJZQPHEMODC6PUE5AR2UD4FBU6TNEJOU4UR4KC6XL5PWW5K4\",\n",
      "    \"total\": 1000,\n",
      "    \"unit-name\": \"NFT\",\n",
      "    \"url\": \"https://path/to/my/asset/details\"\n",
      "}\n",
      "Asset ID: 18865393\n",
      "{\n",
      "    \"amount\": 1000,\n",
      "    \"asset-id\": 18865393,\n",
      "    \"creator\": \"ATTR6RUEHHBHXKUHT4GUOYWNBVDV2GJ5FHUWCSFZLHD55EVKZWOWSM7ABQ\",\n",
      "    \"is-frozen\": false\n",
      "}\n"
     ]
    }
   ],
   "source": [
    "# Get network params for transactions before every transaction.\n",
    "params = algod_client.suggested_params()\n",
    "# comment these two lines if you want to use suggested params\n",
    "params.fee = 1000\n",
    "params.flat_fee = True\n",
    "\n",
    "# Account 1 creates an asset called latinum and\n",
    "# sets Account 2 as the manager, reserve, freeze, and clawback address.\n",
    "# Asset Creation transaction\n",
    "\n",
    "txn = AssetConfigTxn(\n",
    "    sender=accounts[1]['pk'],\n",
    "    sp=params,\n",
    "    total=1000,\n",
    "    default_frozen=False,\n",
    "    unit_name=\"NFT\",\n",
    "    asset_name=\"nft\",\n",
    "    manager=accounts[2]['pk'],\n",
    "    reserve=accounts[2]['pk'],\n",
    "    freeze=accounts[2]['pk'],\n",
    "    clawback=accounts[2]['pk'],\n",
    "    url=\"https://path/to/my/asset/details\", \n",
    "    decimals=0)\n",
    "# Sign with secret key of creator\n",
    "stxn = txn.sign(accounts[1]['sk'])\n",
    "\n",
    "# Send the transaction to the network and retrieve the txid.\n",
    "txid = algod_client.send_transaction(stxn)\n",
    "print(txid)\n",
    "\n",
    "# Retrieve the asset ID of the newly created asset by first\n",
    "# ensuring that the creation transaction was confirmed,\n",
    "# then grabbing the asset id from the transaction.\n",
    "\n",
    "# Wait for the transaction to be confirmed\n",
    "wait_for_confirmation(algod_client,txid)\n",
    "\n",
    "try:\n",
    "    # Pull account info for the creator\n",
    "    # account_info = algod_client.account_info(accounts[1]['pk'])\n",
    "    # get asset_id from tx\n",
    "    # Get the new asset's information from the creator account\n",
    "    ptx = algod_client.pending_transaction_info(txid)\n",
    "    asset_id = ptx[\"asset-index\"]\n",
    "    print_created_asset(algod_client, accounts[1]['pk'], asset_id)\n",
    "    print_asset_holding(algod_client, accounts[1]['pk'], asset_id)\n",
    "except Exception as e:\n",
    "    print(e)"
   ]
  },
  {
   "cell_type": "markdown",
   "id": "96b3fdc3",
   "metadata": {},
   "source": [
    "## Mutable Asset Parameters\n",
    "\n",
    "-Manager Address\n",
    "\n",
    "-Reserve Address\n",
    "\n",
    "-Freeze Address\n",
    "\n",
    "-Clawback Address\n"
   ]
  },
  {
   "cell_type": "markdown",
   "id": "1a20ac7f",
   "metadata": {},
   "source": [
    "## CHANGE MANAGER\n",
    "\n",
    "Una vez creado un activo, sólo pueden modificarse las cuentas de gestor, reserva, congelación y recuperación. Todos los demás parámetros están bloqueados durante la vida del activo. Si alguna de estas direcciones se establece como \"\", esa dirección se borrará y no podrá restablecerse nunca durante la vida del activo. Sólo la cuenta del gestor puede realizar cambios de configuración y debe autorizar la transacción."
   ]
  },
  {
   "cell_type": "code",
   "execution_count": 8,
   "id": "3df3c1c5",
   "metadata": {},
   "outputs": [
    {
     "name": "stdout",
     "output_type": "stream",
     "text": [
      "UUQB6KQWVDIECFZCGJU77KEUJ63KKQLUEZGUEZY5K6URKOLYZFLA\n",
      "Waiting for confirmation\n",
      "Transaction UUQB6KQWVDIECFZCGJU77KEUJ63KKQLUEZGUEZY5K6URKOLYZFLA confirmed in round 15277714.\n",
      "Asset ID: 18865393\n",
      "{\n",
      "    \"clawback\": \"AK6Q33PDO4RJZQPHEMODC6PUE5AR2UD4FBU6TNEJOU4UR4KC6XL5PWW5K4\",\n",
      "    \"creator\": \"ATTR6RUEHHBHXKUHT4GUOYWNBVDV2GJ5FHUWCSFZLHD55EVKZWOWSM7ABQ\",\n",
      "    \"decimals\": 0,\n",
      "    \"default-frozen\": false,\n",
      "    \"freeze\": \"AK6Q33PDO4RJZQPHEMODC6PUE5AR2UD4FBU6TNEJOU4UR4KC6XL5PWW5K4\",\n",
      "    \"manager\": \"ATTR6RUEHHBHXKUHT4GUOYWNBVDV2GJ5FHUWCSFZLHD55EVKZWOWSM7ABQ\",\n",
      "    \"name\": \"nft\",\n",
      "    \"reserve\": \"AK6Q33PDO4RJZQPHEMODC6PUE5AR2UD4FBU6TNEJOU4UR4KC6XL5PWW5K4\",\n",
      "    \"total\": 1000,\n",
      "    \"unit-name\": \"NFT\",\n",
      "    \"url\": \"https://path/to/my/asset/details\"\n",
      "}\n"
     ]
    }
   ],
   "source": [
    "# The current manager(Account 2) issues an asset configuration transaction that assigns Account 1 as the new manager.\n",
    "# Keep reserve, freeze, and clawback address same as before, i.e. account 2\n",
    "params = algod_client.suggested_params()\n",
    "# comment these two lines if you want to use suggested params\n",
    "params.fee = 1000\n",
    "params.flat_fee = True\n",
    "\n",
    "# asset_id = 328952;\n",
    "\n",
    "txn = AssetConfigTxn(\n",
    "    sender=accounts[2]['pk'],\n",
    "    sp=params,\n",
    "    index=asset_id, \n",
    "    manager=accounts[1]['pk'],\n",
    "    reserve=accounts[2]['pk'],\n",
    "    freeze=accounts[2]['pk'],\n",
    "    clawback=accounts[2]['pk'])\n",
    "# sign by the current manager - Account 2\n",
    "stxn = txn.sign(accounts[2]['sk'])\n",
    "txid = algod_client.send_transaction(stxn)\n",
    "print(txid)\n",
    "\n",
    "# Wait for the transaction to be confirmed\n",
    "wait_for_confirmation(algod_client, txid)\n",
    "\n",
    "# Check asset info to view change in management. manager should now be account 1\n",
    "print_created_asset(algod_client, accounts[1]['pk'], asset_id)"
   ]
  },
  {
   "cell_type": "markdown",
   "id": "c6a46d9b",
   "metadata": {},
   "source": [
    "## OPT-IN\n",
    "\n",
    "Antes de que una cuenta pueda recibir un activo específico, debe optar por recibirlo. Una transacción opt-in coloca una tenencia de activos de 0 en la cuenta y aumenta su saldo mínimo en 100.000 microAlgos. Una transacción opt-in es simplemente una transferencia de activos con una cantidad de 0, tanto hacia como desde la cuenta opt-in."
   ]
  },
  {
   "cell_type": "code",
   "execution_count": 9,
   "id": "e7537878",
   "metadata": {},
   "outputs": [
    {
     "name": "stdout",
     "output_type": "stream",
     "text": [
      "NVKIOOBMEC3GGET2DRCREE2UU7WOHVD2RKE2T42AFVMVLNJI7DEQ\n",
      "Waiting for confirmation\n",
      "Transaction NVKIOOBMEC3GGET2DRCREE2UU7WOHVD2RKE2T42AFVMVLNJI7DEQ confirmed in round 15277716.\n",
      "Asset ID: 18865393\n",
      "{\n",
      "    \"amount\": 0,\n",
      "    \"asset-id\": 18865393,\n",
      "    \"creator\": \"ATTR6RUEHHBHXKUHT4GUOYWNBVDV2GJ5FHUWCSFZLHD55EVKZWOWSM7ABQ\",\n",
      "    \"is-frozen\": false\n",
      "}\n"
     ]
    }
   ],
   "source": [
    "# Check if asset_id is in account 3's asset holdings prior\n",
    "# to opt-in\n",
    "params = algod_client.suggested_params()\n",
    "# comment these two lines if you want to use suggested params\n",
    "params.fee = 1000\n",
    "params.flat_fee = True\n",
    "\n",
    "account_info = algod_client.account_info(accounts[3]['pk'])\n",
    "holding = None\n",
    "idx = 0\n",
    "for my_account_info in account_info['assets']:\n",
    "    scrutinized_asset = account_info['assets'][idx]\n",
    "    idx = idx + 1    \n",
    "    if (scrutinized_asset['asset-id'] == asset_id):\n",
    "        holding = True\n",
    "        break\n",
    "\n",
    "if not holding:\n",
    "\n",
    "    # Use the AssetTransferTxn class to transfer assets and opt-in\n",
    "    txn = AssetTransferTxn(\n",
    "        sender=accounts[3]['pk'],\n",
    "        sp=params,\n",
    "        receiver=accounts[3][\"pk\"],\n",
    "        amt=0,\n",
    "        index=asset_id)\n",
    "    stxn = txn.sign(accounts[3]['sk'])\n",
    "    txid = algod_client.send_transaction(stxn)\n",
    "    print(txid)\n",
    "    # Wait for the transaction to be confirmed\n",
    "    wait_for_confirmation(algod_client, txid)\n",
    "    # Now check the asset holding for that account.\n",
    "    # This should now show a holding with a balance of 0.\n",
    "    print_asset_holding(algod_client, accounts[3]['pk'], asset_id)"
   ]
  },
  {
   "cell_type": "markdown",
   "id": "87a566f2",
   "metadata": {},
   "source": [
    "## TRANSFER ASSET\n",
    "\n",
    "Los activos pueden ser transferidos entre cuentas que han optado por recibir el activo. Son análogas a las transacciones de pago estándar, pero para los activos estándar de Algorand."
   ]
  },
  {
   "cell_type": "code",
   "execution_count": 10,
   "id": "e15b4f46",
   "metadata": {},
   "outputs": [
    {
     "name": "stdout",
     "output_type": "stream",
     "text": [
      "CP74UQVWIHFKWKYPLBSHAF3PG66OCFYYN4VOM45YIFLGOCYXEGOA\n",
      "Waiting for confirmation\n",
      "Transaction CP74UQVWIHFKWKYPLBSHAF3PG66OCFYYN4VOM45YIFLGOCYXEGOA confirmed in round 15277718.\n",
      "Asset ID: 18865393\n",
      "{\n",
      "    \"amount\": 10,\n",
      "    \"asset-id\": 18865393,\n",
      "    \"creator\": \"ATTR6RUEHHBHXKUHT4GUOYWNBVDV2GJ5FHUWCSFZLHD55EVKZWOWSM7ABQ\",\n",
      "    \"is-frozen\": false\n",
      "}\n"
     ]
    }
   ],
   "source": [
    "# transfer asset of 10 from account 1 to account 3\n",
    "params = algod_client.suggested_params()\n",
    "# comment these two lines if you want to use suggested params\n",
    "params.fee = 1000\n",
    "params.flat_fee = True\n",
    "txn = AssetTransferTxn(\n",
    "    sender=accounts[1]['pk'],\n",
    "    sp=params,\n",
    "    receiver=accounts[3][\"pk\"],\n",
    "    amt=10,\n",
    "    index=asset_id)\n",
    "stxn = txn.sign(accounts[1]['sk'])\n",
    "txid = algod_client.send_transaction(stxn)\n",
    "print(txid)\n",
    "# Wait for the transaction to be confirmed\n",
    "wait_for_confirmation(algod_client, txid)\n",
    "# The balance should now be 10.\n",
    "print_asset_holding(algod_client, accounts[3]['pk'], asset_id)"
   ]
  },
  {
   "cell_type": "markdown",
   "id": "c69e65f1",
   "metadata": {},
   "source": [
    "## FREEZE ASSET\n",
    "\n",
    "La congelación o descongelación de un activo para una cuenta requiere una transacción firmada por la cuenta congelada. "
   ]
  },
  {
   "cell_type": "code",
   "execution_count": 11,
   "id": "b8a2cb7f",
   "metadata": {},
   "outputs": [
    {
     "name": "stdout",
     "output_type": "stream",
     "text": [
      "7CTD3GIGQS5URW5K7NXW72OG6BAASJJ3ETCDEC4GVNTRRF45ZU2Q\n",
      "Waiting for confirmation\n",
      "Transaction 7CTD3GIGQS5URW5K7NXW72OG6BAASJJ3ETCDEC4GVNTRRF45ZU2Q confirmed in round 15277720.\n",
      "Asset ID: 18865393\n",
      "{\n",
      "    \"amount\": 10,\n",
      "    \"asset-id\": 18865393,\n",
      "    \"creator\": \"ATTR6RUEHHBHXKUHT4GUOYWNBVDV2GJ5FHUWCSFZLHD55EVKZWOWSM7ABQ\",\n",
      "    \"is-frozen\": true\n",
      "}\n"
     ]
    }
   ],
   "source": [
    "params = algod_client.suggested_params()\n",
    "# comment these two lines if you want to use suggested params\n",
    "params.fee = 1000\n",
    "params.flat_fee = True\n",
    "# The freeze address (Account 2) freezes Account 3's latinum holdings.\n",
    "\n",
    "txn = AssetFreezeTxn(\n",
    "    sender=accounts[2]['pk'],\n",
    "    sp=params,\n",
    "    index=asset_id,\n",
    "    target=accounts[3][\"pk\"],\n",
    "    new_freeze_state=True   \n",
    "    )\n",
    "stxn = txn.sign(accounts[2]['sk'])\n",
    "txid = algod_client.send_transaction(stxn)\n",
    "print(txid)\n",
    "# Wait for the transaction to be confirmed\n",
    "wait_for_confirmation(algod_client, txid)\n",
    "# The balance should now be 10 with frozen set to true.\n",
    "print_asset_holding(algod_client, accounts[3]['pk'], asset_id)"
   ]
  },
  {
   "cell_type": "markdown",
   "id": "f7f7e3e0",
   "metadata": {},
   "source": [
    "## REVOKE ASSET\n",
    "\n",
    "La revocación de un activo para una cuenta elimina un número específico del activo de la cuenta de destino de la revocación. La revocación de un activo de una cuenta requiere especificar un remitente de activos (la cuenta de destino de la revocación) y un receptor de activos (la cuenta a la que transferir los fondos de nuevo)."
   ]
  },
  {
   "cell_type": "code",
   "execution_count": 12,
   "id": "506049db",
   "metadata": {},
   "outputs": [
    {
     "name": "stdout",
     "output_type": "stream",
     "text": [
      "ZK7YXQQPKUYZ3M2BQKNQ3R7ML4VRDQEGLJFORXXYDZ6HGA2N5HAA\n",
      "Waiting for confirmation\n",
      "Transaction ZK7YXQQPKUYZ3M2BQKNQ3R7ML4VRDQEGLJFORXXYDZ6HGA2N5HAA confirmed in round 15277722.\n",
      "Account 3\n",
      "Asset ID: 18865393\n",
      "{\n",
      "    \"amount\": 0,\n",
      "    \"asset-id\": 18865393,\n",
      "    \"creator\": \"ATTR6RUEHHBHXKUHT4GUOYWNBVDV2GJ5FHUWCSFZLHD55EVKZWOWSM7ABQ\",\n",
      "    \"is-frozen\": true\n",
      "}\n",
      "Account 1\n",
      "Asset ID: 18865393\n",
      "{\n",
      "    \"amount\": 1000,\n",
      "    \"asset-id\": 18865393,\n",
      "    \"creator\": \"ATTR6RUEHHBHXKUHT4GUOYWNBVDV2GJ5FHUWCSFZLHD55EVKZWOWSM7ABQ\",\n",
      "    \"is-frozen\": false\n",
      "}\n"
     ]
    }
   ],
   "source": [
    "# The clawback address (Account 2) revokes 10 latinum from Account 3 and places it back with Account 1.\n",
    "params = algod_client.suggested_params()\n",
    "# comment these two lines if you want to use suggested params\n",
    "params.fee = 1000\n",
    "params.flat_fee = True\n",
    "\n",
    "# Must be signed by the account that is the Asset's clawback address\n",
    "txn = AssetTransferTxn(\n",
    "    sender=accounts[2]['pk'],\n",
    "    sp=params,\n",
    "    receiver=accounts[1][\"pk\"],\n",
    "    amt=10,\n",
    "    index=asset_id,\n",
    "    revocation_target=accounts[3]['pk']\n",
    "    )\n",
    "stxn = txn.sign(accounts[2]['sk'])\n",
    "txid = algod_client.send_transaction(stxn)\n",
    "print(txid)\n",
    "# Wait for the transaction to be confirmed\n",
    "wait_for_confirmation(algod_client, txid)\n",
    "# The balance of account 3 should now be 0.\n",
    "# account_info = algod_client.account_info(accounts[3]['pk'])\n",
    "print(\"Account 3\")\n",
    "print_asset_holding(algod_client, accounts[3]['pk'], asset_id)\n",
    "\n",
    "# The balance of account 1 should increase by 10 to 1000.\n",
    "print(\"Account 1\")\n",
    "print_asset_holding(algod_client, accounts[1]['pk'], asset_id)"
   ]
  },
  {
   "cell_type": "markdown",
   "id": "0d5fbccb",
   "metadata": {},
   "source": [
    "## DESTROY ASSET\n",
    "\n",
    "Los activos creados sólo pueden ser destruidos por la cuenta del gestor de activos. Todos los activos deben ser propiedad del creador del activo antes de que éste pueda ser eliminado."
   ]
  },
  {
   "cell_type": "code",
   "execution_count": 13,
   "id": "00135593",
   "metadata": {},
   "outputs": [
    {
     "name": "stdout",
     "output_type": "stream",
     "text": [
      "I6F3IKETCW4C4GLDCIPPTSKABFYN5FB3NGZESVIF3EJTX4ZQGJFA\n",
      "Waiting for confirmation\n",
      "Transaction I6F3IKETCW4C4GLDCIPPTSKABFYN5FB3NGZESVIF3EJTX4ZQGJFA confirmed in round 15277724.\n",
      "Account 3 must do a transaction for an amount of 0, \n",
      "with a close_assets_to to the creator account, to clear it from its accountholdings\n",
      "For Account 1, nothing should print after this as the asset is destroyed on the creator account\n"
     ]
    }
   ],
   "source": [
    "# With all assets back in the creator's account,\n",
    "# the manager (Account 1) destroys the asset.\n",
    "params = algod_client.suggested_params()\n",
    "# comment these two lines if you want to use suggested params\n",
    "params.fee = 1000\n",
    "params.flat_fee = True\n",
    "\n",
    "# Asset destroy transaction\n",
    "txn = AssetConfigTxn(\n",
    "    sender=accounts[1]['pk'],\n",
    "    sp=params,\n",
    "    index=asset_id,\n",
    "    strict_empty_address_check=False\n",
    "    )\n",
    "\n",
    "# Sign with secret key of creator\n",
    "stxn = txn.sign(accounts[1]['sk'])\n",
    "# Send the transaction to the network and retrieve the txid.\n",
    "txid = algod_client.send_transaction(stxn)\n",
    "print(txid)\n",
    "# Wait for the transaction to be confirmed\n",
    "wait_for_confirmation(algod_client, txid)\n",
    "\n",
    "# Asset was deleted.\n",
    "try:\n",
    "    print(\"Account 3 must do a transaction for an amount of 0, \" )\n",
    "    print(\"with a close_assets_to to the creator account, to clear it from its accountholdings\")\n",
    "    print(\"For Account 1, nothing should print after this as the asset is destroyed on the creator account\")\n",
    "   \n",
    "    print_asset_holding(algod_client, accounts[1]['pk'], asset_id)\n",
    "    print_created_asset(algod_client, accounts[1]['pk'], asset_id)\n",
    "    # asset_info = algod_client.asset_info(asset_id)\n",
    "except Exception as e:\n",
    "    print(e)"
   ]
  },
  {
   "cell_type": "code",
   "execution_count": null,
   "id": "dba421e4",
   "metadata": {},
   "outputs": [],
   "source": []
  },
  {
   "cell_type": "code",
   "execution_count": null,
   "id": "b1334948",
   "metadata": {},
   "outputs": [],
   "source": []
  }
 ],
 "metadata": {
  "interpreter": {
   "hash": "386d83fb667d97e7b1f39f2e10f6e6364b1cd5c4a5a1ca02adf2fa8d04d5e51d"
  },
  "kernelspec": {
   "display_name": "Python 3",
   "language": "python",
   "name": "python3"
  },
  "language_info": {
   "codemirror_mode": {
    "name": "ipython",
    "version": 3
   },
   "file_extension": ".py",
   "mimetype": "text/x-python",
   "name": "python",
   "nbconvert_exporter": "python",
   "pygments_lexer": "ipython3",
   "version": "3.8.8"
  }
 },
 "nbformat": 4,
 "nbformat_minor": 5
}
